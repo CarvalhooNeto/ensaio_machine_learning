{
 "cells": [
  {
   "cell_type": "markdown",
   "id": "261b592e",
   "metadata": {},
   "source": [
    "# 0.0 - Imports"
   ]
  },
  {
   "cell_type": "code",
   "execution_count": 1,
   "id": "feb8ee21",
   "metadata": {},
   "outputs": [],
   "source": [
    "import pandas as pd"
   ]
  },
  {
   "cell_type": "markdown",
   "id": "d965c0c1",
   "metadata": {},
   "source": [
    "# 1.0 - Load Dataset"
   ]
  },
  {
   "cell_type": "code",
   "execution_count": null,
   "id": "fed92de6",
   "metadata": {},
   "outputs": [],
   "source": [
    "# path\n",
    "'/home/aderaldo/estudos/comunidade_ds/fundamentos_de_machine_learning/projeto/Datasets/classificação/X_training.csv'"
   ]
  },
  {
   "cell_type": "markdown",
   "id": "2c16e045",
   "metadata": {},
   "source": [
    "## 1.1 - Train Dataset"
   ]
  },
  {
   "cell_type": "code",
   "execution_count": 2,
   "id": "6e61956a",
   "metadata": {},
   "outputs": [],
   "source": [
    "df01 = pd.read_csv('/home/aderaldo/estudos/comunidade_ds/fundamentos_de_machine_learning/projeto/Datasets/classificação/X_training.csv')"
   ]
  },
  {
   "cell_type": "code",
   "execution_count": 3,
   "id": "8b7416c6",
   "metadata": {},
   "outputs": [],
   "source": [
    "df02 = pd.read_csv('/home/aderaldo/estudos/comunidade_ds/fundamentos_de_machine_learning/projeto/Datasets/classificação/y_training.csv')"
   ]
  },
  {
   "cell_type": "markdown",
   "id": "bb59ee2a",
   "metadata": {},
   "source": [
    "## 1.2 - Test Dataset"
   ]
  },
  {
   "cell_type": "code",
   "execution_count": 4,
   "id": "0b6062a0",
   "metadata": {},
   "outputs": [],
   "source": [
    "df3 = pd.read_csv('/home/aderaldo/estudos/comunidade_ds/fundamentos_de_machine_learning/projeto/Datasets/classificação/X_test.csv')"
   ]
  },
  {
   "cell_type": "code",
   "execution_count": 5,
   "id": "af684519",
   "metadata": {},
   "outputs": [],
   "source": [
    "df4 = pd.read_csv('/home/aderaldo/estudos/comunidade_ds/fundamentos_de_machine_learning/projeto/Datasets/classificação/y_test.csv')"
   ]
  },
  {
   "cell_type": "markdown",
   "id": "344bd220",
   "metadata": {},
   "source": [
    "## 1.3 - Validation Dataset"
   ]
  },
  {
   "cell_type": "code",
   "execution_count": 6,
   "id": "8d39afc9",
   "metadata": {},
   "outputs": [],
   "source": [
    "df5 = pd.read_csv('/home/aderaldo/estudos/comunidade_ds/fundamentos_de_machine_learning/projeto/Datasets/classificação/X_validation.csv')"
   ]
  },
  {
   "cell_type": "code",
   "execution_count": 7,
   "id": "ef468439",
   "metadata": {},
   "outputs": [],
   "source": [
    "df6 = pd.read_csv('/home/aderaldo/estudos/comunidade_ds/fundamentos_de_machine_learning/projeto/Datasets/classificação/y_validation.csv')"
   ]
  },
  {
   "cell_type": "markdown",
   "id": "6e2bfe20",
   "metadata": {},
   "source": [
    "# 2.0 - Training"
   ]
  },
  {
   "cell_type": "code",
   "execution_count": null,
   "id": "3d8dd2b9",
   "metadata": {},
   "outputs": [],
   "source": [
    "model_tree = tr.DecisionTreeClassifier(max_depth = 2, min_samples_split = 50)\n"
   ]
  },
  {
   "cell_type": "markdown",
   "id": "b5eff3f8",
   "metadata": {},
   "source": [
    "# 3.0 - Precision And Recall Metrics"
   ]
  },
  {
   "cell_type": "code",
   "execution_count": null,
   "id": "77d52d58",
   "metadata": {},
   "outputs": [],
   "source": []
  },
  {
   "cell_type": "code",
   "execution_count": null,
   "id": "c3c6d77d",
   "metadata": {},
   "outputs": [],
   "source": []
  }
 ],
 "metadata": {
  "kernelspec": {
   "display_name": "Python 3 (ipykernel)",
   "language": "python",
   "name": "python3"
  },
  "language_info": {
   "codemirror_mode": {
    "name": "ipython",
    "version": 3
   },
   "file_extension": ".py",
   "mimetype": "text/x-python",
   "name": "python",
   "nbconvert_exporter": "python",
   "pygments_lexer": "ipython3",
   "version": "3.9.12"
  }
 },
 "nbformat": 4,
 "nbformat_minor": 5
}
