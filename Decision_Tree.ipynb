{
 "cells": [
  {
   "cell_type": "markdown",
   "id": "261b592e",
   "metadata": {},
   "source": [
    "# 0.0 - Imports"
   ]
  },
  {
   "cell_type": "code",
   "execution_count": 1,
   "id": "feb8ee21",
   "metadata": {},
   "outputs": [
    {
     "name": "stderr",
     "output_type": "stream",
     "text": [
      "/home/aderaldo/anaconda3/lib/python3.9/site-packages/scipy/__init__.py:146: UserWarning: A NumPy version >=1.16.5 and <1.23.0 is required for this version of SciPy (detected version 1.23.0\n",
      "  warnings.warn(f\"A NumPy version >={np_minversion} and <{np_maxversion}\"\n"
     ]
    }
   ],
   "source": [
    "import pandas as pd\n",
    "import numpy as np\n",
    "from matplotlib import pyplot as plt\n",
    "from sklearn import tree as tr\n",
    "from sklearn import metrics as mt"
   ]
  },
  {
   "cell_type": "markdown",
   "id": "d965c0c1",
   "metadata": {},
   "source": [
    "# 1.0 - Load Dataset"
   ]
  },
  {
   "cell_type": "code",
   "execution_count": null,
   "id": "fed92de6",
   "metadata": {},
   "outputs": [],
   "source": [
    "# path\n",
    "'/home/aderaldo/estudos/comunidade_ds/fundamentos_de_machine_learning/projeto/Datasets/classificação/X_training.csv'"
   ]
  },
  {
   "cell_type": "markdown",
   "id": "2c16e045",
   "metadata": {},
   "source": [
    "## 1.1 - Train Dataset"
   ]
  },
  {
   "cell_type": "code",
   "execution_count": 2,
   "id": "6e61956a",
   "metadata": {},
   "outputs": [],
   "source": [
    "df1 = pd.read_csv('/home/aderaldo/estudos/comunidade_ds/fundamentos_de_machine_learning/projeto/Datasets/classificação/X_training.csv')"
   ]
  },
  {
   "cell_type": "code",
   "execution_count": 3,
   "id": "8b7416c6",
   "metadata": {},
   "outputs": [],
   "source": [
    "df2 = pd.read_csv('/home/aderaldo/estudos/comunidade_ds/fundamentos_de_machine_learning/projeto/Datasets/classificação/y_training.csv')"
   ]
  },
  {
   "cell_type": "markdown",
   "id": "bb59ee2a",
   "metadata": {},
   "source": [
    "## 1.2 - Test Dataset"
   ]
  },
  {
   "cell_type": "code",
   "execution_count": 4,
   "id": "0b6062a0",
   "metadata": {},
   "outputs": [],
   "source": [
    "df3 = pd.read_csv('/home/aderaldo/estudos/comunidade_ds/fundamentos_de_machine_learning/projeto/Datasets/classificação/X_test.csv')"
   ]
  },
  {
   "cell_type": "code",
   "execution_count": 5,
   "id": "af684519",
   "metadata": {},
   "outputs": [],
   "source": [
    "df4 = pd.read_csv('/home/aderaldo/estudos/comunidade_ds/fundamentos_de_machine_learning/projeto/Datasets/classificação/y_test.csv')"
   ]
  },
  {
   "cell_type": "markdown",
   "id": "344bd220",
   "metadata": {},
   "source": [
    "## 1.3 - Validation Dataset"
   ]
  },
  {
   "cell_type": "code",
   "execution_count": 6,
   "id": "8d39afc9",
   "metadata": {},
   "outputs": [],
   "source": [
    "df5 = pd.read_csv('/home/aderaldo/estudos/comunidade_ds/fundamentos_de_machine_learning/projeto/Datasets/classificação/X_validation.csv')"
   ]
  },
  {
   "cell_type": "code",
   "execution_count": 7,
   "id": "ef468439",
   "metadata": {},
   "outputs": [],
   "source": [
    "df6 = pd.read_csv('/home/aderaldo/estudos/comunidade_ds/fundamentos_de_machine_learning/projeto/Datasets/classificação/y_validation.csv')"
   ]
  },
  {
   "cell_type": "code",
   "execution_count": 11,
   "id": "ff830995",
   "metadata": {},
   "outputs": [
    {
     "data": {
      "text/plain": [
       "(72515, 25)"
      ]
     },
     "execution_count": 11,
     "metadata": {},
     "output_type": "execute_result"
    }
   ],
   "source": [
    "df1.shape"
   ]
  },
  {
   "cell_type": "markdown",
   "id": "44f61153",
   "metadata": {},
   "source": [
    "## 1.4 - Feature Selection"
   ]
  },
  {
   "cell_type": "code",
   "execution_count": 8,
   "id": "8dc013db",
   "metadata": {},
   "outputs": [],
   "source": [
    "features = ['customer_type', 'age', 'class', 'flight_distance',\n",
    "       'inflight_wifi_service', 'departure_arrival_time_convenient',\n",
    "       'ease_of_online_booking', 'gate_location', 'food_and_drink',\n",
    "       'online_boarding', 'seat_comfort', 'inflight_entertainment',\n",
    "       'on_board_service', 'leg_room_service', 'baggage_handling',\n",
    "       'checkin_service', 'inflight_service', 'cleanliness',\n",
    "       'departure_delay_in_minutes', 'arrival_delay_in_minutes',\n",
    "       'gender_Female', 'gender_Male', 'type_of_travel_business_travel',\n",
    "       'type_of_travel_personal_travel']"
   ]
  },
  {
   "cell_type": "code",
   "execution_count": 9,
   "id": "9ee9d2a3",
   "metadata": {},
   "outputs": [],
   "source": [
    "x_train = df1.loc[:, features]"
   ]
  },
  {
   "cell_type": "code",
   "execution_count": 10,
   "id": "575f0f26",
   "metadata": {},
   "outputs": [],
   "source": [
    "y_train = df2.copy()"
   ]
  },
  {
   "cell_type": "code",
   "execution_count": 11,
   "id": "483e5863",
   "metadata": {},
   "outputs": [],
   "source": [
    "x_test = df3.loc[:, features]"
   ]
  },
  {
   "cell_type": "code",
   "execution_count": 12,
   "id": "1ee053de",
   "metadata": {},
   "outputs": [],
   "source": [
    "y_test = df4.copy()"
   ]
  },
  {
   "cell_type": "code",
   "execution_count": 13,
   "id": "b6ae5f2c",
   "metadata": {},
   "outputs": [],
   "source": [
    "x_val = df5.loc[:, features]"
   ]
  },
  {
   "cell_type": "code",
   "execution_count": 14,
   "id": "67db6c46",
   "metadata": {},
   "outputs": [],
   "source": [
    "y_val = df6.copy()"
   ]
  },
  {
   "cell_type": "markdown",
   "id": "6e2bfe20",
   "metadata": {},
   "source": [
    "# 2.0 - Training"
   ]
  },
  {
   "cell_type": "markdown",
   "id": "b40fd3a8",
   "metadata": {},
   "source": [
    "## 2.1 - Fine Tunnig"
   ]
  },
  {
   "cell_type": "code",
   "execution_count": 15,
   "id": "3d8dd2b9",
   "metadata": {},
   "outputs": [
    {
     "name": "stdout",
     "output_type": "stream",
     "text": [
      "valor de max_depth: 2\n",
      "Valor da acurácia: 0.8564947392129734 \n",
      "\n",
      "valor de max_depth: 4\n",
      "Valor da acurácia: 0.8934650407027254 \n",
      "\n",
      "valor de max_depth: 6\n",
      "Valor da acurácia: 0.9217478039833972 \n",
      "\n",
      "valor de max_depth: 8\n",
      "Valor da acurácia: 0.9361626821969818 \n",
      "\n",
      "valor de max_depth: 10\n",
      "Valor da acurácia: 0.9429518324270407 \n",
      "\n",
      "valor de max_depth: 12\n",
      "Valor da acurácia: 0.9494835741175713 \n",
      "\n",
      "valor de max_depth: 14\n",
      "Valor da acurácia: 0.9506740886128897 \n",
      "\n",
      "valor de max_depth: 16\n",
      "Valor da acurácia: 0.950030567264069 \n",
      "\n",
      "valor de max_depth: 18\n",
      "Valor da acurácia: 0.94912963737572 \n",
      "\n",
      "valor de max_depth: 20\n",
      "Valor da acurácia: 0.9481965314199299 \n",
      "\n",
      "valor de max_depth: 22\n",
      "Valor da acurácia: 0.9458798545641751 \n",
      "\n",
      "valor de max_depth: 24\n",
      "Valor da acurácia: 0.9460729109688214 \n",
      "\n",
      "valor de max_depth: 26\n",
      "Valor da acurácia: 0.9441745229898002 \n",
      "\n",
      "valor de max_depth: 28\n",
      "Valor da acurácia: 0.9452685092827955 \n",
      "\n"
     ]
    }
   ],
   "source": [
    "depth_values = np.arange(2, 30, 2)\n",
    "accuracy_values = []\n",
    "\n",
    "for i in depth_values:\n",
    "    print( \"valor de max_depth: {}\".format( i ) )\n",
    "    model_tree = tr.DecisionTreeClassifier( max_depth = i)\n",
    "    model_tree.fit( x_train, y_train )\n",
    "    y_pred = model_tree.predict( x_val )\n",
    "    accuracy = mt.accuracy_score( y_val, y_pred)\n",
    "    print( \"Valor da acurácia: {} \\n\".format( accuracy ) )\n",
    "    accuracy_values.append( accuracy )"
   ]
  },
  {
   "cell_type": "code",
   "execution_count": 16,
   "id": "f1a6aecd",
   "metadata": {},
   "outputs": [],
   "source": [
    "depth_accuracy = { 'max_depth': depth_values, 'accuracy': accuracy_values}\n",
    "depth_accuracy_dataframe = pd.DataFrame(depth_accuracy)"
   ]
  },
  {
   "cell_type": "code",
   "execution_count": 22,
   "id": "5f753c17",
   "metadata": {},
   "outputs": [
    {
     "data": {
      "image/png": "[encoded data removed]",
      "text/plain": [
       "<Figure size 432x288 with 1 Axes>"
      ]
     },
     "metadata": {
      "needs_background": "light"
     },
     "output_type": "display_data"
    }
   ],
   "source": [
    "fig, ax = plt.subplots()\n",
    "depth_accuracy_dataframe.plot(x=\"max_depth\", y=\"accuracy\", marker=\"o\", ax=ax)\n",
    "plt.xlabel(\"max_depth\")\n",
    "plt.ylabel(\"accuracy\")\n",
    "ax.set_xlim(2,28)\n",
    "ax.set_xticks(np.arange(2, 30, 2));"
   ]
  },
  {
   "cell_type": "markdown",
   "id": "65a3aa5c",
   "metadata": {},
   "source": [
    "## 2.2 Houldout Validation"
   ]
  },
  {
   "cell_type": "code",
   "execution_count": 26,
   "id": "5749f5bf",
   "metadata": {},
   "outputs": [
    {
     "name": "stderr",
     "output_type": "stream",
     "text": [
      "/home/aderaldo/anaconda3/lib/python3.9/site-packages/sklearn/base.py:443: UserWarning: X has feature names, but DecisionTreeClassifier was fitted without feature names\n",
      "  warnings.warn(\n"
     ]
    },
    {
     "data": {
      "text/plain": [
       "0.9562043795620438"
      ]
     },
     "execution_count": 26,
     "metadata": {},
     "output_type": "execute_result"
    }
   ],
   "source": [
    "# Define\n",
    "model = tr.DecisionTreeClassifier(max_depth = 14)\n",
    "# fit\n",
    "model.fit ( np.concatenate( ( x_train, x_val) ) , np.concatenate( ( y_train, y_val ) ) )\n",
    "# predict\n",
    "y_pred_final = model.predict( x_test )\n",
    "# performance\n",
    "mt.accuracy_score( y_test, y_pred_final )"
   ]
  },
  {
   "cell_type": "code",
   "execution_count": 27,
   "id": "af74a6e1",
   "metadata": {},
   "outputs": [
    {
     "data": {
      "text/plain": [
       "0.9618961625282167"
      ]
     },
     "execution_count": 27,
     "metadata": {},
     "output_type": "execute_result"
    }
   ],
   "source": [
    "mt.precision_score( y_test, y_pred_final )"
   ]
  },
  {
   "cell_type": "code",
   "execution_count": 28,
   "id": "59f28de9",
   "metadata": {},
   "outputs": [
    {
     "data": {
      "text/plain": [
       "0.9373515178178619"
      ]
     },
     "execution_count": 28,
     "metadata": {},
     "output_type": "execute_result"
    }
   ],
   "source": [
    "mt.recall_score( y_test, y_pred_final )"
   ]
  },
  {
   "cell_type": "code",
   "execution_count": 30,
   "id": "14965dd9",
   "metadata": {},
   "outputs": [
    {
     "data": {
      "text/plain": [
       "0.9494652406417113"
      ]
     },
     "execution_count": 30,
     "metadata": {},
     "output_type": "execute_result"
    }
   ],
   "source": [
    "mt.f1_score( y_test, y_pred_final )"
   ]
  },
  {
   "cell_type": "markdown",
   "id": "b5eff3f8",
   "metadata": {},
   "source": [
    "# 3.0 - Metrics"
   ]
  },
  {
   "cell_type": "code",
   "execution_count": 33,
   "id": "19b6a0fd",
   "metadata": {},
   "outputs": [
    {
     "name": "stderr",
     "output_type": "stream",
     "text": [
      "/home/aderaldo/anaconda3/lib/python3.9/site-packages/sklearn/base.py:443: UserWarning: X has feature names, but DecisionTreeClassifier was fitted without feature names\n",
      "  warnings.warn(\n"
     ]
    }
   ],
   "source": [
    "y_pred_test = model.predict_proba( x_test )\n",
    "y_pred_test = y_pred_test[:, 1]"
   ]
  },
  {
   "cell_type": "markdown",
   "id": "4c042c99",
   "metadata": {},
   "source": [
    "## 3.2 - ROC curve"
   ]
  },
  {
   "cell_type": "code",
   "execution_count": null,
   "id": "28967564",
   "metadata": {},
   "outputs": [],
   "source": [
    "# Como não existe uma prefência entres as classe, utilizarei a roc curve para avaliar\n",
    "# a recall e precisão."
   ]
  },
  {
   "cell_type": "code",
   "execution_count": 34,
   "id": "9a612737",
   "metadata": {},
   "outputs": [],
   "source": [
    "fpr, tpr, thresholds = mt.roc_curve( y_test, y_pred_test)"
   ]
  },
  {
   "cell_type": "code",
   "execution_count": 35,
   "id": "6ea4a5f6",
   "metadata": {},
   "outputs": [
    {
     "data": {
      "text/plain": [
       "Text(0, 0.5, 'Tpr')"
      ]
     },
     "execution_count": 35,
     "metadata": {},
     "output_type": "execute_result"
    },
    {
     "data": {
      "image/png": "[encoded data removed]",
      "text/plain": [
       "<Figure size 432x288 with 1 Axes>"
      ]
     },
     "metadata": {
      "needs_background": "light"
     },
     "output_type": "display_data"
    }
   ],
   "source": [
    "plt.plot(fpr, tpr, marker = '.')\n",
    "plt.xlabel('Fpr')\n",
    "plt.ylabel('Tpr')"
   ]
  },
  {
   "cell_type": "code",
   "execution_count": 41,
   "id": "3d707ba5",
   "metadata": {},
   "outputs": [
    {
     "data": {
      "text/plain": [
       "<matplotlib.legend.Legend at 0x7f2c2fe9adc0>"
      ]
     },
     "execution_count": 41,
     "metadata": {},
     "output_type": "execute_result"
    },
    {
     "data": {
      "image/png": "[encoded data removed]",
      "text/plain": [
       "<Figure size 432x288 with 1 Axes>"
      ]
     },
     "metadata": {
      "needs_background": "light"
     },
     "output_type": "display_data"
    }
   ],
   "source": [
    "plt.plot( thresholds, tpr, 'b-', label = 'tpr' )\n",
    "plt.plot( thresholds, 1-fpr, 'g--', label = 'FPR' )\n",
    "# Esse -1 é pra inverter o gráfico\n",
    "plt.xlim( [0,1])\n",
    "plt.vlines( 0.3, 0,0.95, color = 'red' )\n",
    "plt.xlabel(\"thresholds\")\n",
    "plt.ylabel(\"Precision&Recall\")\n",
    "plt.legend()"
   ]
  },
  {
   "cell_type": "code",
   "execution_count": 42,
   "id": "d207dfa5",
   "metadata": {},
   "outputs": [],
   "source": [
    "th_roc = 0.3\n",
    "y_pred_test = [1 if i > th_roc else 0 for i in y_pred_test]"
   ]
  }
 ],
 "metadata": {
  "kernelspec": {
   "display_name": "Python 3 (ipykernel)",
   "language": "python",
   "name": "python3"
  },
  "language_info": {
   "codemirror_mode": {
    "name": "ipython",
    "version": 3
   },
   "file_extension": ".py",
   "mimetype": "text/x-python",
   "name": "python",
   "nbconvert_exporter": "python",
   "pygments_lexer": "ipython3",
   "version": "3.9.12"
  }
 },
 "nbformat": 4,
 "nbformat_minor": 5
}
