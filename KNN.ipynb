{
 "cells": [
  {
   "cell_type": "markdown",
   "id": "3b0d13e5",
   "metadata": {},
   "source": [
    "# 0.0 - Imports"
   ]
  },
  {
   "cell_type": "code",
   "execution_count": 1,
   "id": "b27dc4fd",
   "metadata": {},
   "outputs": [
    {
     "name": "stderr",
     "output_type": "stream",
     "text": [
      "/home/aderaldo/anaconda3/lib/python3.9/site-packages/scipy/__init__.py:146: UserWarning: A NumPy version >=1.16.5 and <1.23.0 is required for this version of SciPy (detected version 1.23.0\n",
      "  warnings.warn(f\"A NumPy version >={np_minversion} and <{np_maxversion}\"\n"
     ]
    }
   ],
   "source": [
    "import pandas as pd\n",
    "import numpy as np\n",
    "from sklearn.neighbors import KNeighborsClassifier\n",
    "from sklearn import metrics as mt\n",
    "from matplotlib import pyplot as plt\n",
    "import numpy as np"
   ]
  },
  {
   "cell_type": "markdown",
   "id": "339cb5d6",
   "metadata": {},
   "source": [
    "# 1.0 - Load Dataset"
   ]
  },
  {
   "cell_type": "code",
   "execution_count": 3,
   "id": "ec29af90",
   "metadata": {},
   "outputs": [
    {
     "data": {
      "text/plain": [
       "'/home/aderaldo/estudos/comunidade_ds/fundamentos_de_machine_learning/projeto/Datasets/classificação/X_training.csv'"
      ]
     },
     "execution_count": 3,
     "metadata": {},
     "output_type": "execute_result"
    }
   ],
   "source": [
    "# path\n",
    "'/home/aderaldo/estudos/comunidade_ds/fundamentos_de_machine_learning/projeto/Datasets/classificação/X_training.csv'"
   ]
  },
  {
   "cell_type": "markdown",
   "id": "c2a5c579",
   "metadata": {},
   "source": [
    "## 1.1 - Training Dataset"
   ]
  },
  {
   "cell_type": "code",
   "execution_count": 4,
   "id": "7b19c175",
   "metadata": {},
   "outputs": [],
   "source": [
    "df1 = pd.read_csv('/home/aderaldo/estudos/comunidade_ds/fundamentos_de_machine_learning/projeto/Datasets/classificação/X_training.csv')"
   ]
  },
  {
   "cell_type": "code",
   "execution_count": 5,
   "id": "61daac9a",
   "metadata": {},
   "outputs": [],
   "source": [
    "df2 = pd.read_csv('/home/aderaldo/estudos/comunidade_ds/fundamentos_de_machine_learning/projeto/Datasets/classificação/y_training.csv')"
   ]
  },
  {
   "cell_type": "markdown",
   "id": "a5d56353",
   "metadata": {},
   "source": [
    "## 1.2 - Test Dataset"
   ]
  },
  {
   "cell_type": "code",
   "execution_count": 6,
   "id": "a8c2b295",
   "metadata": {},
   "outputs": [],
   "source": [
    "df3 = pd.read_csv('/home/aderaldo/estudos/comunidade_ds/fundamentos_de_machine_learning/projeto/Datasets/classificação/X_test.csv')"
   ]
  },
  {
   "cell_type": "code",
   "execution_count": 7,
   "id": "f2ed507e",
   "metadata": {},
   "outputs": [],
   "source": [
    "df4 = pd.read_csv('/home/aderaldo/estudos/comunidade_ds/fundamentos_de_machine_learning/projeto/Datasets/classificação/y_test.csv')"
   ]
  },
  {
   "cell_type": "markdown",
   "id": "0128f47b",
   "metadata": {},
   "source": [
    "## 1.3 - Validation Dataset"
   ]
  },
  {
   "cell_type": "code",
   "execution_count": 8,
   "id": "8d6c19ac",
   "metadata": {},
   "outputs": [],
   "source": [
    "df5 = pd.read_csv('/home/aderaldo/estudos/comunidade_ds/fundamentos_de_machine_learning/projeto/Datasets/classificação/X_validation.csv')"
   ]
  },
  {
   "cell_type": "code",
   "execution_count": 9,
   "id": "ce6044ac",
   "metadata": {},
   "outputs": [],
   "source": [
    "df6 = pd.read_csv('/home/aderaldo/estudos/comunidade_ds/fundamentos_de_machine_learning/projeto/Datasets/classificação/y_validation.csv')"
   ]
  },
  {
   "cell_type": "markdown",
   "id": "9e59ea51",
   "metadata": {},
   "source": [
    "## 1.4 - Feature Selection"
   ]
  },
  {
   "cell_type": "code",
   "execution_count": 41,
   "id": "97aec7e5",
   "metadata": {},
   "outputs": [
    {
     "data": {
      "text/html": [
       "<div>\n",
       "<style scoped>\n",
       "    .dataframe tbody tr th:only-of-type {\n",
       "        vertical-align: middle;\n",
       "    }\n",
       "\n",
       "    .dataframe tbody tr th {\n",
       "        vertical-align: top;\n",
       "    }\n",
       "\n",
       "    .dataframe thead th {\n",
       "        text-align: right;\n",
       "    }\n",
       "</style>\n",
       "<table border=\"1\" class=\"dataframe\">\n",
       "  <thead>\n",
       "    <tr style=\"text-align: right;\">\n",
       "      <th></th>\n",
       "      <th>id</th>\n",
       "      <th>customer_type</th>\n",
       "      <th>age</th>\n",
       "      <th>class</th>\n",
       "      <th>flight_distance</th>\n",
       "      <th>inflight_wifi_service</th>\n",
       "      <th>departure_arrival_time_convenient</th>\n",
       "      <th>ease_of_online_booking</th>\n",
       "      <th>gate_location</th>\n",
       "      <th>food_and_drink</th>\n",
       "      <th>...</th>\n",
       "      <th>baggage_handling</th>\n",
       "      <th>checkin_service</th>\n",
       "      <th>inflight_service</th>\n",
       "      <th>cleanliness</th>\n",
       "      <th>departure_delay_in_minutes</th>\n",
       "      <th>arrival_delay_in_minutes</th>\n",
       "      <th>gender_Female</th>\n",
       "      <th>gender_Male</th>\n",
       "      <th>type_of_travel_business_travel</th>\n",
       "      <th>type_of_travel_personal_travel</th>\n",
       "    </tr>\n",
       "  </thead>\n",
       "  <tbody>\n",
       "    <tr>\n",
       "      <th>0</th>\n",
       "      <td>75635</td>\n",
       "      <td>1</td>\n",
       "      <td>0.525641</td>\n",
       "      <td>1.0</td>\n",
       "      <td>0.714055</td>\n",
       "      <td>1.0</td>\n",
       "      <td>1.0</td>\n",
       "      <td>1.0</td>\n",
       "      <td>1.0</td>\n",
       "      <td>0.8</td>\n",
       "      <td>...</td>\n",
       "      <td>0.75</td>\n",
       "      <td>0.75</td>\n",
       "      <td>0.8</td>\n",
       "      <td>0.8</td>\n",
       "      <td>0.000000</td>\n",
       "      <td>0.000000</td>\n",
       "      <td>0.0</td>\n",
       "      <td>1.0</td>\n",
       "      <td>1.0</td>\n",
       "      <td>0.0</td>\n",
       "    </tr>\n",
       "    <tr>\n",
       "      <th>1</th>\n",
       "      <td>106136</td>\n",
       "      <td>1</td>\n",
       "      <td>0.615385</td>\n",
       "      <td>1.0</td>\n",
       "      <td>0.054725</td>\n",
       "      <td>0.4</td>\n",
       "      <td>1.0</td>\n",
       "      <td>1.0</td>\n",
       "      <td>1.0</td>\n",
       "      <td>0.4</td>\n",
       "      <td>...</td>\n",
       "      <td>0.25</td>\n",
       "      <td>0.00</td>\n",
       "      <td>0.4</td>\n",
       "      <td>0.6</td>\n",
       "      <td>0.004916</td>\n",
       "      <td>0.004946</td>\n",
       "      <td>0.0</td>\n",
       "      <td>1.0</td>\n",
       "      <td>1.0</td>\n",
       "      <td>0.0</td>\n",
       "    </tr>\n",
       "    <tr>\n",
       "      <th>2</th>\n",
       "      <td>94469</td>\n",
       "      <td>1</td>\n",
       "      <td>0.435897</td>\n",
       "      <td>1.0</td>\n",
       "      <td>0.342690</td>\n",
       "      <td>0.0</td>\n",
       "      <td>0.2</td>\n",
       "      <td>0.2</td>\n",
       "      <td>0.6</td>\n",
       "      <td>0.8</td>\n",
       "      <td>...</td>\n",
       "      <td>0.25</td>\n",
       "      <td>0.75</td>\n",
       "      <td>0.4</td>\n",
       "      <td>0.6</td>\n",
       "      <td>0.004916</td>\n",
       "      <td>0.000000</td>\n",
       "      <td>1.0</td>\n",
       "      <td>0.0</td>\n",
       "      <td>1.0</td>\n",
       "      <td>0.0</td>\n",
       "    </tr>\n",
       "    <tr>\n",
       "      <th>3</th>\n",
       "      <td>42104</td>\n",
       "      <td>1</td>\n",
       "      <td>0.615385</td>\n",
       "      <td>1.0</td>\n",
       "      <td>0.649838</td>\n",
       "      <td>1.0</td>\n",
       "      <td>1.0</td>\n",
       "      <td>0.6</td>\n",
       "      <td>1.0</td>\n",
       "      <td>1.0</td>\n",
       "      <td>...</td>\n",
       "      <td>0.75</td>\n",
       "      <td>0.75</td>\n",
       "      <td>0.8</td>\n",
       "      <td>0.8</td>\n",
       "      <td>0.000000</td>\n",
       "      <td>0.000989</td>\n",
       "      <td>1.0</td>\n",
       "      <td>0.0</td>\n",
       "      <td>1.0</td>\n",
       "      <td>0.0</td>\n",
       "    </tr>\n",
       "    <tr>\n",
       "      <th>4</th>\n",
       "      <td>78762</td>\n",
       "      <td>1</td>\n",
       "      <td>0.282051</td>\n",
       "      <td>0.0</td>\n",
       "      <td>0.100363</td>\n",
       "      <td>0.4</td>\n",
       "      <td>0.6</td>\n",
       "      <td>0.6</td>\n",
       "      <td>0.6</td>\n",
       "      <td>0.4</td>\n",
       "      <td>...</td>\n",
       "      <td>0.75</td>\n",
       "      <td>0.75</td>\n",
       "      <td>0.6</td>\n",
       "      <td>0.4</td>\n",
       "      <td>0.093412</td>\n",
       "      <td>0.090010</td>\n",
       "      <td>0.0</td>\n",
       "      <td>1.0</td>\n",
       "      <td>1.0</td>\n",
       "      <td>0.0</td>\n",
       "    </tr>\n",
       "  </tbody>\n",
       "</table>\n",
       "<p>5 rows × 25 columns</p>\n",
       "</div>"
      ],
      "text/plain": [
       "       id  customer_type       age  class  flight_distance  \\\n",
       "0   75635              1  0.525641    1.0         0.714055   \n",
       "1  106136              1  0.615385    1.0         0.054725   \n",
       "2   94469              1  0.435897    1.0         0.342690   \n",
       "3   42104              1  0.615385    1.0         0.649838   \n",
       "4   78762              1  0.282051    0.0         0.100363   \n",
       "\n",
       "   inflight_wifi_service  departure_arrival_time_convenient  \\\n",
       "0                    1.0                                1.0   \n",
       "1                    0.4                                1.0   \n",
       "2                    0.0                                0.2   \n",
       "3                    1.0                                1.0   \n",
       "4                    0.4                                0.6   \n",
       "\n",
       "   ease_of_online_booking  gate_location  food_and_drink  ...  \\\n",
       "0                     1.0            1.0             0.8  ...   \n",
       "1                     1.0            1.0             0.4  ...   \n",
       "2                     0.2            0.6             0.8  ...   \n",
       "3                     0.6            1.0             1.0  ...   \n",
       "4                     0.6            0.6             0.4  ...   \n",
       "\n",
       "   baggage_handling  checkin_service  inflight_service  cleanliness  \\\n",
       "0              0.75             0.75               0.8          0.8   \n",
       "1              0.25             0.00               0.4          0.6   \n",
       "2              0.25             0.75               0.4          0.6   \n",
       "3              0.75             0.75               0.8          0.8   \n",
       "4              0.75             0.75               0.6          0.4   \n",
       "\n",
       "   departure_delay_in_minutes  arrival_delay_in_minutes  gender_Female  \\\n",
       "0                    0.000000                  0.000000            0.0   \n",
       "1                    0.004916                  0.004946            0.0   \n",
       "2                    0.004916                  0.000000            1.0   \n",
       "3                    0.000000                  0.000989            1.0   \n",
       "4                    0.093412                  0.090010            0.0   \n",
       "\n",
       "   gender_Male  type_of_travel_business_travel  type_of_travel_personal_travel  \n",
       "0          1.0                             1.0                             0.0  \n",
       "1          1.0                             1.0                             0.0  \n",
       "2          0.0                             1.0                             0.0  \n",
       "3          0.0                             1.0                             0.0  \n",
       "4          1.0                             1.0                             0.0  \n",
       "\n",
       "[5 rows x 25 columns]"
      ]
     },
     "execution_count": 41,
     "metadata": {},
     "output_type": "execute_result"
    }
   ],
   "source": [
    "df5.head()"
   ]
  },
  {
   "cell_type": "code",
   "execution_count": 10,
   "id": "5ebdd335",
   "metadata": {},
   "outputs": [],
   "source": [
    "features = ['customer_type', 'age', 'class', 'flight_distance',\n",
    "       'inflight_wifi_service', 'departure_arrival_time_convenient',\n",
    "       'ease_of_online_booking', 'gate_location', 'food_and_drink',\n",
    "       'online_boarding', 'seat_comfort', 'inflight_entertainment',\n",
    "       'on_board_service', 'leg_room_service', 'baggage_handling',\n",
    "       'checkin_service', 'inflight_service', 'cleanliness',\n",
    "       'departure_delay_in_minutes', 'arrival_delay_in_minutes',\n",
    "       'gender_Female', 'gender_Male', 'type_of_travel_business_travel',\n",
    "       'type_of_travel_personal_travel']"
   ]
  },
  {
   "cell_type": "code",
   "execution_count": 11,
   "id": "4027b2e5",
   "metadata": {},
   "outputs": [],
   "source": [
    "x_train = df1.loc[:, features]"
   ]
  },
  {
   "cell_type": "code",
   "execution_count": 12,
   "id": "25e2bd2e",
   "metadata": {},
   "outputs": [],
   "source": [
    "y_train = df2['0'].values"
   ]
  },
  {
   "cell_type": "code",
   "execution_count": 13,
   "id": "469b0637",
   "metadata": {},
   "outputs": [],
   "source": [
    "x_test = df3.loc[:, features]"
   ]
  },
  {
   "cell_type": "code",
   "execution_count": 14,
   "id": "81c181b7",
   "metadata": {},
   "outputs": [],
   "source": [
    "y_test = df4['0'].values"
   ]
  },
  {
   "cell_type": "code",
   "execution_count": 15,
   "id": "f9067108",
   "metadata": {},
   "outputs": [],
   "source": [
    "x_val = df5.loc[:, features]"
   ]
  },
  {
   "cell_type": "code",
   "execution_count": 16,
   "id": "36210638",
   "metadata": {},
   "outputs": [],
   "source": [
    "y_val = df6['0'].values"
   ]
  },
  {
   "cell_type": "code",
   "execution_count": 17,
   "id": "419e5fcd",
   "metadata": {},
   "outputs": [
    {
     "data": {
      "text/plain": [
       "(25893, 24)"
      ]
     },
     "execution_count": 17,
     "metadata": {},
     "output_type": "execute_result"
    }
   ],
   "source": [
    "x_test.shape"
   ]
  },
  {
   "cell_type": "code",
   "execution_count": 19,
   "id": "a539a40d",
   "metadata": {},
   "outputs": [
    {
     "data": {
      "text/plain": [
       "0    0.561078\n",
       "1    0.438922\n",
       "Name: 0, dtype: float64"
      ]
     },
     "execution_count": 19,
     "metadata": {},
     "output_type": "execute_result"
    }
   ],
   "source": [
    "# verificar o balanceamento \n",
    "df4.loc[:,'0'].value_counts( normalize = True)"
   ]
  },
  {
   "cell_type": "markdown",
   "id": "da8088ab",
   "metadata": {},
   "source": [
    "# 2.0 - Training"
   ]
  },
  {
   "cell_type": "markdown",
   "id": "e7899cc2",
   "metadata": {},
   "source": [
    "## 2.1 - Fine Tunning"
   ]
  },
  {
   "cell_type": "code",
   "execution_count": 49,
   "id": "279467b8",
   "metadata": {},
   "outputs": [
    {
     "name": "stdout",
     "output_type": "stream",
     "text": [
      "K Number: 3\n",
      "Accuracy: 0.9235174876926542 \n",
      "\n",
      "K Number: 5\n",
      "Accuracy: 0.9252228192670292 \n",
      "\n",
      "K Number: 7\n",
      "Accuracy: 0.9254158756716754 \n",
      "\n",
      "K Number: 9\n",
      "Accuracy: 0.9260272209530551 \n",
      "\n",
      "K Number: 11\n",
      "Accuracy: 0.9260915730879372 \n",
      "\n",
      "K Number: 13\n",
      "Accuracy: 0.9264776858972297 \n",
      "\n",
      "K Number: 15\n",
      "Accuracy: 0.9265098619646707 \n",
      "\n",
      "K Number: 17\n",
      "Accuracy: 0.9257054602786448 \n",
      "\n",
      "K Number: 19\n",
      "Accuracy: 0.925962868818173 \n",
      "\n",
      "K Number: 21\n",
      "Accuracy: 0.9251262910647061 \n",
      "\n"
     ]
    }
   ],
   "source": [
    "# Realizando a escolha do melhor parametro avaliando a perfomance com os dados de validação\n",
    "k_list = np.arange(3, 22, 2)\n",
    "accuracy_list = []\n",
    "\n",
    "for i in k_list:\n",
    "    print(f'K Number: {i}')\n",
    "    knn_classifier = KNeighborsClassifier( n_neighbors = i )\n",
    "    knn_classifier.fit( x_train, y_train )\n",
    "    y_pred = knn_classifier.predict( x_val )\n",
    "    accuracy = mt.accuracy_score( y_val, y_pred )\n",
    "    print(f'Accuracy: {accuracy} \\n')\n",
    "    accuracy_list.append(accuracy)"
   ]
  },
  {
   "cell_type": "code",
   "execution_count": 61,
   "id": "fa5c1f70",
   "metadata": {},
   "outputs": [
    {
     "data": {
      "text/plain": [
       "k           21.00000\n",
       "accuracy     0.92651\n",
       "dtype: float64"
      ]
     },
     "execution_count": 61,
     "metadata": {},
     "output_type": "execute_result"
    }
   ],
   "source": [
    "k_accuracy = { 'k': k_list, 'accuracy': accuracy_list}\n",
    "k_accuracy_dataframe = pd.DataFrame(k_accuracy)\n"
   ]
  },
  {
   "cell_type": "code",
   "execution_count": 62,
   "id": "00b7e2fe",
   "metadata": {},
   "outputs": [
    {
     "data": {
      "image/png": "[encoded data removed]",
      "text/plain": [
       "<Figure size 432x288 with 1 Axes>"
      ]
     },
     "metadata": {
      "needs_background": "light"
     },
     "output_type": "display_data"
    }
   ],
   "source": [
    "fig, ax = plt.subplots()\n",
    "k_accuracy_dataframe.plot(x=\"k\", y=\"accuracy\", marker=\"o\", ax=ax)\n",
    "ax.set_xlim(3,21)\n",
    "ax.set_xticks(np.arange(3, 22, 2));"
   ]
  },
  {
   "cell_type": "markdown",
   "id": "389e6cdc",
   "metadata": {},
   "source": [
    "## 2.4 Houldout Validation"
   ]
  },
  {
   "cell_type": "code",
   "execution_count": 20,
   "id": "baa2eb56",
   "metadata": {},
   "outputs": [
    {
     "name": "stderr",
     "output_type": "stream",
     "text": [
      "/home/aderaldo/anaconda3/lib/python3.9/site-packages/sklearn/base.py:443: UserWarning: X has feature names, but KNeighborsClassifier was fitted without feature names\n",
      "  warnings.warn(\n"
     ]
    }
   ],
   "source": [
    "# Algoritmo treinado com os melhores valores\n",
    "knn_classifier = KNeighborsClassifier( n_neighbors = 15 )\n",
    "knn_classifier.fit( np.concatenate( (x_train, x_val) ), np.concatenate((y_train, y_val)) )\n",
    "\n",
    "# Estimando o erro de generalização com os dados de test\n",
    "y_pred_final = knn_classifier.predict( x_test )\n",
    "accuracy = mt.accuracy_score( y_test, y_pred_final )"
   ]
  },
  {
   "cell_type": "code",
   "execution_count": 71,
   "id": "6fc98cb0",
   "metadata": {},
   "outputs": [
    {
     "name": "stdout",
     "output_type": "stream",
     "text": [
      "Accuracy: 0.9283976364268335 \n",
      "\n"
     ]
    }
   ],
   "source": [
    "print(f'Accuracy: {accuracy} \\n')"
   ]
  },
  {
   "cell_type": "markdown",
   "id": "e728c576",
   "metadata": {},
   "source": [
    "## 2.2 Performance Over Training Dataset"
   ]
  },
  {
   "cell_type": "code",
   "execution_count": null,
   "id": "2b69b1a8",
   "metadata": {},
   "outputs": [
    {
     "name": "stderr",
     "output_type": "stream",
     "text": [
      "/home/aderaldo/anaconda3/lib/python3.9/site-packages/sklearn/base.py:443: UserWarning: X has feature names, but KNeighborsClassifier was fitted without feature names\n",
      "  warnings.warn(\n"
     ]
    }
   ],
   "source": [
    "y_pred = knn_classifier.predict( x_train )\n",
    "accuracy = mt.accuracy_score( y_train, y_pred )\n",
    "print(f'Accuracy: {accuracy} \\n')"
   ]
  },
  {
   "cell_type": "markdown",
   "id": "4b9ae689",
   "metadata": {},
   "source": [
    "## 2.2 Performance Over Test Dataset"
   ]
  },
  {
   "cell_type": "code",
   "execution_count": 73,
   "id": "fea06ecf",
   "metadata": {},
   "outputs": [
    {
     "name": "stderr",
     "output_type": "stream",
     "text": [
      "/home/aderaldo/anaconda3/lib/python3.9/site-packages/sklearn/base.py:443: UserWarning: X has feature names, but KNeighborsClassifier was fitted without feature names\n",
      "  warnings.warn(\n"
     ]
    },
    {
     "name": "stdout",
     "output_type": "stream",
     "text": [
      "Accuracy: 0.9283976364268335 \n",
      "\n"
     ]
    }
   ],
   "source": [
    "# Performance\n",
    "y_pred_test = knn_classifier.predict( x_test )\n",
    "accuracy = mt.accuracy_score( y_test, y_pred_test )\n",
    "print(f'Accuracy: {accuracy} \\n')"
   ]
  },
  {
   "cell_type": "markdown",
   "id": "7e82855f",
   "metadata": {},
   "source": [
    "## 2.3 Performance Over Validation Dataset"
   ]
  },
  {
   "cell_type": "code",
   "execution_count": 21,
   "id": "1499ac4b",
   "metadata": {},
   "outputs": [
    {
     "name": "stderr",
     "output_type": "stream",
     "text": [
      "/home/aderaldo/anaconda3/lib/python3.9/site-packages/sklearn/base.py:443: UserWarning: X has feature names, but KNeighborsClassifier was fitted without feature names\n",
      "  warnings.warn(\n"
     ]
    },
    {
     "name": "stdout",
     "output_type": "stream",
     "text": [
      "Accuracy: 0.9339103574761093 \n",
      "\n"
     ]
    }
   ],
   "source": [
    "# Performance\n",
    "y_pred_val = knn_classifier.predict( x_val )\n",
    "accuracy = mt.accuracy_score( y_val, y_pred_val )\n",
    "print(f'Accuracy: {accuracy} \\n')"
   ]
  },
  {
   "cell_type": "markdown",
   "id": "741ba9b1",
   "metadata": {},
   "source": [
    "# 3.0 - Metrics"
   ]
  },
  {
   "cell_type": "markdown",
   "id": "78cf1d9f",
   "metadata": {},
   "source": [
    "## 3.1 - Training"
   ]
  },
  {
   "cell_type": "code",
   "execution_count": 30,
   "id": "58b55e79",
   "metadata": {},
   "outputs": [
    {
     "data": {
      "text/plain": [
       "0.9731907070031757"
      ]
     },
     "execution_count": 30,
     "metadata": {},
     "output_type": "execute_result"
    }
   ],
   "source": [
    "mt.precision_score(y_train, y_pred)"
   ]
  },
  {
   "cell_type": "code",
   "execution_count": 27,
   "id": "344a5b2a",
   "metadata": {},
   "outputs": [
    {
     "data": {
      "text/plain": [
       "0.9263395698103601"
      ]
     },
     "execution_count": 27,
     "metadata": {},
     "output_type": "execute_result"
    }
   ],
   "source": [
    "mt.recall_score(y_train, y_pred)"
   ]
  },
  {
   "cell_type": "code",
   "execution_count": null,
   "id": "ee5115c3",
   "metadata": {},
   "outputs": [],
   "source": [
    "mt.f1_score( y_train, y_pred )"
   ]
  },
  {
   "cell_type": "markdown",
   "id": "547f7b6b",
   "metadata": {},
   "source": [
    "## 3.2 - Test"
   ]
  },
  {
   "cell_type": "code",
   "execution_count": 37,
   "id": "14be5e3d",
   "metadata": {},
   "outputs": [
    {
     "data": {
      "text/plain": [
       "0.942714702285768"
      ]
     },
     "execution_count": 37,
     "metadata": {},
     "output_type": "execute_result"
    }
   ],
   "source": [
    "mt.precision_score(y_test, y_pred_test)"
   ]
  },
  {
   "cell_type": "code",
   "execution_count": 38,
   "id": "821c7df2",
   "metadata": {},
   "outputs": [
    {
     "data": {
      "text/plain": [
       "0.8818301803783546"
      ]
     },
     "execution_count": 38,
     "metadata": {},
     "output_type": "execute_result"
    }
   ],
   "source": [
    "mt.recall_score(y_test, y_pred_test)"
   ]
  },
  {
   "cell_type": "code",
   "execution_count": null,
   "id": "aff271a9",
   "metadata": {},
   "outputs": [],
   "source": [
    "mt.f1_score(y_test, y_pred_test)"
   ]
  },
  {
   "cell_type": "markdown",
   "id": "39af02e7",
   "metadata": {},
   "source": [
    "## 3.3 - Validation"
   ]
  },
  {
   "cell_type": "code",
   "execution_count": 22,
   "id": "e96daa53",
   "metadata": {},
   "outputs": [
    {
     "data": {
      "text/plain": [
       "0.9633839408946984"
      ]
     },
     "execution_count": 22,
     "metadata": {},
     "output_type": "execute_result"
    }
   ],
   "source": [
    "mt.precision_score(y_val, y_pred_val)"
   ]
  },
  {
   "cell_type": "code",
   "execution_count": 24,
   "id": "c4b7a211",
   "metadata": {},
   "outputs": [
    {
     "data": {
      "text/plain": [
       "0.8809859677778603"
      ]
     },
     "execution_count": 24,
     "metadata": {},
     "output_type": "execute_result"
    }
   ],
   "source": [
    "mt.recall_score(y_val, y_pred_val)"
   ]
  },
  {
   "cell_type": "code",
   "execution_count": 26,
   "id": "0dc91d04",
   "metadata": {},
   "outputs": [
    {
     "data": {
      "text/plain": [
       "0.9203443729155356"
      ]
     },
     "execution_count": 26,
     "metadata": {},
     "output_type": "execute_result"
    }
   ],
   "source": [
    "mt.f1_score( y_val, y_pred_val )"
   ]
  }
 ],
 "metadata": {
  "kernelspec": {
   "display_name": "Python 3 (ipykernel)",
   "language": "python",
   "name": "python3"
  },
  "language_info": {
   "codemirror_mode": {
    "name": "ipython",
    "version": 3
   },
   "file_extension": ".py",
   "mimetype": "text/x-python",
   "name": "python",
   "nbconvert_exporter": "python",
   "pygments_lexer": "ipython3",
   "version": "3.9.12"
  }
 },
 "nbformat": 4,
 "nbformat_minor": 5
}
