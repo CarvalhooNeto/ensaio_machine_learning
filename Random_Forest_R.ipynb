{
 "cells": [
  {
   "cell_type": "markdown",
   "id": "838e22ed",
   "metadata": {},
   "source": [
    "# 0.0 - Imports"
   ]
  },
  {
   "cell_type": "code",
   "execution_count": 9,
   "id": "607e8b52",
   "metadata": {},
   "outputs": [],
   "source": [
    "import pandas as pd\n",
    "import numpy as np\n",
    "from sklearn import ensemble as en\n",
    "from sklearn import metrics as mt\n",
    "from sklearn import metrics as mt"
   ]
  },
  {
   "cell_type": "markdown",
   "id": "eed0545e",
   "metadata": {},
   "source": [
    "# 1.0 - Load Dataset"
   ]
  },
  {
   "cell_type": "markdown",
   "id": "4cb19783",
   "metadata": {},
   "source": [
    "## 1.1 - Training Dataset"
   ]
  },
  {
   "cell_type": "code",
   "execution_count": 2,
   "id": "cb4c3b1e",
   "metadata": {},
   "outputs": [],
   "source": [
    "x_train = pd.read_csv('/home/aderaldo/estudos/comunidade_ds/fundamentos_de_machine_learning/projeto/Datasets/regressão/X_training.csv')"
   ]
  },
  {
   "cell_type": "code",
   "execution_count": 3,
   "id": "6e46e80d",
   "metadata": {},
   "outputs": [],
   "source": [
    "y_train = pd.read_csv('/home/aderaldo/estudos/comunidade_ds/fundamentos_de_machine_learning/projeto/Datasets/regressão/y_training.csv')"
   ]
  },
  {
   "cell_type": "markdown",
   "id": "ef169f97",
   "metadata": {},
   "source": [
    "## 1.2 - Test Dataset"
   ]
  },
  {
   "cell_type": "code",
   "execution_count": 4,
   "id": "0c1b77e2",
   "metadata": {},
   "outputs": [],
   "source": [
    "x_test = pd.read_csv('/home/aderaldo/estudos/comunidade_ds/fundamentos_de_machine_learning/projeto/Datasets/regressão/X_test.csv')"
   ]
  },
  {
   "cell_type": "code",
   "execution_count": 5,
   "id": "faae657d",
   "metadata": {},
   "outputs": [],
   "source": [
    "y_test = pd.read_csv('/home/aderaldo/estudos/comunidade_ds/fundamentos_de_machine_learning/projeto/Datasets/regressão/y_test.csv')"
   ]
  },
  {
   "cell_type": "markdown",
   "id": "40fe3b6d",
   "metadata": {},
   "source": [
    "## 1.3 - Validation Dataset"
   ]
  },
  {
   "cell_type": "code",
   "execution_count": 6,
   "id": "db78f688",
   "metadata": {},
   "outputs": [],
   "source": [
    "x_val = pd.read_csv('/home/aderaldo/estudos/comunidade_ds/fundamentos_de_machine_learning/projeto/Datasets/regressão/X_validation.csv')"
   ]
  },
  {
   "cell_type": "code",
   "execution_count": 7,
   "id": "b7ad7f92",
   "metadata": {},
   "outputs": [],
   "source": [
    "y_val = pd.read_csv('/home/aderaldo/estudos/comunidade_ds/fundamentos_de_machine_learning/projeto/Datasets/regressão/y_val.csv')"
   ]
  },
  {
   "cell_type": "markdown",
   "id": "1c248d24",
   "metadata": {},
   "source": [
    "# 2.0 - Training Model"
   ]
  },
  {
   "cell_type": "code",
   "execution_count": 17,
   "id": "e126c422",
   "metadata": {},
   "outputs": [
    {
     "name": "stderr",
     "output_type": "stream",
     "text": [
      "/tmp/ipykernel_1406735/875713757.py:6: DataConversionWarning: A column-vector y was passed when a 1d array was expected. Please change the shape of y to (n_samples,), for example using ravel().\n",
      "  model_tree.fit( x_train, y_train )\n",
      "/tmp/ipykernel_1406735/875713757.py:6: DataConversionWarning: A column-vector y was passed when a 1d array was expected. Please change the shape of y to (n_samples,), for example using ravel().\n",
      "  model_tree.fit( x_train, y_train )\n",
      "/tmp/ipykernel_1406735/875713757.py:6: DataConversionWarning: A column-vector y was passed when a 1d array was expected. Please change the shape of y to (n_samples,), for example using ravel().\n",
      "  model_tree.fit( x_train, y_train )\n",
      "/tmp/ipykernel_1406735/875713757.py:6: DataConversionWarning: A column-vector y was passed when a 1d array was expected. Please change the shape of y to (n_samples,), for example using ravel().\n",
      "  model_tree.fit( x_train, y_train )\n",
      "/tmp/ipykernel_1406735/875713757.py:6: DataConversionWarning: A column-vector y was passed when a 1d array was expected. Please change the shape of y to (n_samples,), for example using ravel().\n",
      "  model_tree.fit( x_train, y_train )\n",
      "/tmp/ipykernel_1406735/875713757.py:6: DataConversionWarning: A column-vector y was passed when a 1d array was expected. Please change the shape of y to (n_samples,), for example using ravel().\n",
      "  model_tree.fit( x_train, y_train )\n",
      "/tmp/ipykernel_1406735/875713757.py:6: DataConversionWarning: A column-vector y was passed when a 1d array was expected. Please change the shape of y to (n_samples,), for example using ravel().\n",
      "  model_tree.fit( x_train, y_train )\n",
      "/tmp/ipykernel_1406735/875713757.py:6: DataConversionWarning: A column-vector y was passed when a 1d array was expected. Please change the shape of y to (n_samples,), for example using ravel().\n",
      "  model_tree.fit( x_train, y_train )\n",
      "/tmp/ipykernel_1406735/875713757.py:6: DataConversionWarning: A column-vector y was passed when a 1d array was expected. Please change the shape of y to (n_samples,), for example using ravel().\n",
      "  model_tree.fit( x_train, y_train )\n"
     ]
    }
   ],
   "source": [
    "estimators_values = np.arange(3, 300, 5)\n",
    "r2_values = []\n",
    "\n",
    "for i in depth_values:\n",
    "    model_tree = en.RandomForestRegressor( n_estimators = i, random_state = 0 )\n",
    "    model_tree.fit( x_train, y_train )\n",
    "    y_pred = model_tree.predict( x_val )\n",
    "    r2 = mt.r2_score( y_val, y_pred )\n",
    "    r2_values.append( r2 )"
   ]
  },
  {
   "cell_type": "code",
   "execution_count": 18,
   "id": "ce15c217",
   "metadata": {},
   "outputs": [],
   "source": [
    "results = {\"depth_values\" : depth_values, \"r2_values\" : r2_values }\n",
    "results_df = pd.DataFrame( results )"
   ]
  },
  {
   "cell_type": "code",
   "execution_count": 19,
   "id": "87a1518d",
   "metadata": {},
   "outputs": [
    {
     "data": {
      "text/html": [
       "<div>\n",
       "<style scoped>\n",
       "    .dataframe tbody tr th:only-of-type {\n",
       "        vertical-align: middle;\n",
       "    }\n",
       "\n",
       "    .dataframe tbody tr th {\n",
       "        vertical-align: top;\n",
       "    }\n",
       "\n",
       "    .dataframe thead th {\n",
       "        text-align: right;\n",
       "    }\n",
       "</style>\n",
       "<table border=\"1\" class=\"dataframe\">\n",
       "  <thead>\n",
       "    <tr style=\"text-align: right;\">\n",
       "      <th></th>\n",
       "      <th>depth_values</th>\n",
       "      <th>r2_values</th>\n",
       "    </tr>\n",
       "  </thead>\n",
       "  <tbody>\n",
       "    <tr>\n",
       "      <th>8</th>\n",
       "      <td>27</td>\n",
       "      <td>0.312028</td>\n",
       "    </tr>\n",
       "    <tr>\n",
       "      <th>7</th>\n",
       "      <td>24</td>\n",
       "      <td>0.308072</td>\n",
       "    </tr>\n",
       "    <tr>\n",
       "      <th>6</th>\n",
       "      <td>21</td>\n",
       "      <td>0.305154</td>\n",
       "    </tr>\n",
       "    <tr>\n",
       "      <th>5</th>\n",
       "      <td>18</td>\n",
       "      <td>0.297168</td>\n",
       "    </tr>\n",
       "    <tr>\n",
       "      <th>4</th>\n",
       "      <td>15</td>\n",
       "      <td>0.287027</td>\n",
       "    </tr>\n",
       "    <tr>\n",
       "      <th>3</th>\n",
       "      <td>12</td>\n",
       "      <td>0.274647</td>\n",
       "    </tr>\n",
       "    <tr>\n",
       "      <th>2</th>\n",
       "      <td>9</td>\n",
       "      <td>0.260952</td>\n",
       "    </tr>\n",
       "    <tr>\n",
       "      <th>1</th>\n",
       "      <td>6</td>\n",
       "      <td>0.212969</td>\n",
       "    </tr>\n",
       "    <tr>\n",
       "      <th>0</th>\n",
       "      <td>3</td>\n",
       "      <td>0.078973</td>\n",
       "    </tr>\n",
       "  </tbody>\n",
       "</table>\n",
       "</div>"
      ],
      "text/plain": [
       "   depth_values  r2_values\n",
       "8            27   0.312028\n",
       "7            24   0.308072\n",
       "6            21   0.305154\n",
       "5            18   0.297168\n",
       "4            15   0.287027\n",
       "3            12   0.274647\n",
       "2             9   0.260952\n",
       "1             6   0.212969\n",
       "0             3   0.078973"
      ]
     },
     "execution_count": 19,
     "metadata": {},
     "output_type": "execute_result"
    }
   ],
   "source": [
    "results_df.sort_values( by = \"r2_values\", ascending = False)"
   ]
  },
  {
   "cell_type": "markdown",
   "id": "e29b3e71",
   "metadata": {},
   "source": [
    "## 2.1 - Houldout Validation"
   ]
  },
  {
   "cell_type": "code",
   "execution_count": 24,
   "id": "5b428c27",
   "metadata": {},
   "outputs": [
    {
     "name": "stderr",
     "output_type": "stream",
     "text": [
      "/tmp/ipykernel_1406735/95592179.py:2: DataConversionWarning: A column-vector y was passed when a 1d array was expected. Please change the shape of y to (n_samples,), for example using ravel().\n",
      "  model_tree.fit( np.concatenate( (x_train, x_val) ), np.concatenate((y_train, y_val)) )\n",
      "/home/aderaldo/anaconda3/lib/python3.9/site-packages/sklearn/base.py:443: UserWarning: X has feature names, but RandomForestRegressor was fitted without feature names\n",
      "  warnings.warn(\n"
     ]
    },
    {
     "data": {
      "text/plain": [
       "0.38743025589662783"
      ]
     },
     "execution_count": 24,
     "metadata": {},
     "output_type": "execute_result"
    }
   ],
   "source": [
    "model_tree = en.RandomForestRegressor( n_estimators = 27, random_state = 0, )\n",
    "model_tree.fit( np.concatenate( (x_train, x_val) ), np.concatenate((y_train, y_val)) )\n",
    "y_pred_final = model_tree.predict( x_test )\n",
    "mt.r2_score( y_test, y_pred_final )"
   ]
  },
  {
   "cell_type": "code",
   "execution_count": null,
   "id": "68222cf5",
   "metadata": {},
   "outputs": [],
   "source": [
    "model_tree = tr.DecisionTreeRegressor( max_depth = 6, random_state = 0 )"
   ]
  },
  {
   "cell_type": "markdown",
   "id": "76567207",
   "metadata": {},
   "source": [
    "# Training Over Training Dataset"
   ]
  },
  {
   "cell_type": "code",
   "execution_count": 22,
   "id": "57903eea",
   "metadata": {},
   "outputs": [
    {
     "name": "stderr",
     "output_type": "stream",
     "text": [
      "/tmp/ipykernel_1406735/3438526494.py:2: DataConversionWarning: A column-vector y was passed when a 1d array was expected. Please change the shape of y to (n_samples,), for example using ravel().\n",
      "  model_tree.fit( x_train, y_train )\n"
     ]
    },
    {
     "data": {
      "text/plain": [
       "0.8923553960138256"
      ]
     },
     "execution_count": 22,
     "metadata": {},
     "output_type": "execute_result"
    }
   ],
   "source": [
    "model_tree = en.RandomForestRegressor( n_estimators = 27, random_state = 0 )\n",
    "model_tree.fit( x_train, y_train )\n",
    "y_pred_final = model_tree.predict( x_train )\n",
    "mt.r2_score( y_train, y_pred_final )"
   ]
  },
  {
   "cell_type": "code",
   "execution_count": 25,
   "id": "841ecf58",
   "metadata": {},
   "outputs": [
    {
     "data": {
      "text/plain": [
       "298.26080620284387"
      ]
     },
     "execution_count": 25,
     "metadata": {},
     "output_type": "execute_result"
    }
   ],
   "source": [
    "#MSE\n",
    "mt.mean_squared_error( y_test, y_pred_final )"
   ]
  },
  {
   "cell_type": "code",
   "execution_count": 26,
   "id": "d7523aa7",
   "metadata": {},
   "outputs": [
    {
     "data": {
      "text/plain": [
       "17.270228898391704"
      ]
     },
     "execution_count": 26,
     "metadata": {},
     "output_type": "execute_result"
    }
   ],
   "source": [
    "#RMSE\n",
    "mt.mean_squared_error( y_test, y_pred_final, squared = False )"
   ]
  },
  {
   "cell_type": "code",
   "execution_count": 27,
   "id": "5f156833",
   "metadata": {},
   "outputs": [
    {
     "data": {
      "text/plain": [
       "6.39813602035707"
      ]
     },
     "execution_count": 27,
     "metadata": {},
     "output_type": "execute_result"
    }
   ],
   "source": [
    "#MAE\n",
    "mt.mean_absolute_percentage_error( y_test, y_pred_final )"
   ]
  },
  {
   "cell_type": "code",
   "execution_count": 28,
   "id": "bca57589",
   "metadata": {},
   "outputs": [
    {
     "data": {
      "text/plain": [
       "12.431824636403576"
      ]
     },
     "execution_count": 28,
     "metadata": {},
     "output_type": "execute_result"
    }
   ],
   "source": [
    "#MAPE\n",
    "mt.mean_absolute_error( y_test, y_pred_final )"
   ]
  },
  {
   "cell_type": "markdown",
   "id": "5466c20d",
   "metadata": {},
   "source": [
    "# Training Over Test Dataset"
   ]
  },
  {
   "cell_type": "code",
   "execution_count": 77,
   "id": "ae753bb5",
   "metadata": {},
   "outputs": [
    {
     "data": {
      "text/plain": [
       "-0.2214715365252784"
      ]
     },
     "execution_count": 77,
     "metadata": {},
     "output_type": "execute_result"
    }
   ],
   "source": [
    "y_pred_final = model_tree.predict( x_test )\n",
    "#r2\n",
    "mt.r2_score( y_test, y_pred_final )"
   ]
  },
  {
   "cell_type": "code",
   "execution_count": 78,
   "id": "a97eca1c",
   "metadata": {},
   "outputs": [
    {
     "data": {
      "text/plain": [
       "594.7356831524752"
      ]
     },
     "execution_count": 78,
     "metadata": {},
     "output_type": "execute_result"
    }
   ],
   "source": [
    "#MSE\n",
    "mt.mean_squared_error( y_test, y_pred_final )"
   ]
  },
  {
   "cell_type": "code",
   "execution_count": 84,
   "id": "45ff0ae4",
   "metadata": {},
   "outputs": [
    {
     "data": {
      "text/plain": [
       "24.387203266313158"
      ]
     },
     "execution_count": 84,
     "metadata": {},
     "output_type": "execute_result"
    }
   ],
   "source": [
    "#RMSE\n",
    "mt.mean_squared_error( y_test, y_pred_final, squared = False )"
   ]
  },
  {
   "cell_type": "code",
   "execution_count": 87,
   "id": "9a402ee2",
   "metadata": {},
   "outputs": [
    {
     "data": {
      "text/plain": [
       "6.1233655243759895"
      ]
     },
     "execution_count": 87,
     "metadata": {},
     "output_type": "execute_result"
    }
   ],
   "source": [
    "#MAE\n",
    "mt.mean_absolute_percentage_error( y_test, y_pred_final )"
   ]
  },
  {
   "cell_type": "code",
   "execution_count": 88,
   "id": "200a0b24",
   "metadata": {},
   "outputs": [
    {
     "data": {
      "text/plain": [
       "16.849884333876904"
      ]
     },
     "execution_count": 88,
     "metadata": {},
     "output_type": "execute_result"
    }
   ],
   "source": [
    "#MAPE\n",
    "mt.mean_absolute_error( y_test, y_pred_final )"
   ]
  },
  {
   "cell_type": "code",
   "execution_count": null,
   "id": "81bd4fed",
   "metadata": {},
   "outputs": [],
   "source": []
  },
  {
   "cell_type": "code",
   "execution_count": null,
   "id": "739b48ea",
   "metadata": {},
   "outputs": [],
   "source": []
  },
  {
   "cell_type": "code",
   "execution_count": null,
   "id": "7de7f92d",
   "metadata": {},
   "outputs": [],
   "source": []
  }
 ],
 "metadata": {
  "kernelspec": {
   "display_name": "Python 3 (ipykernel)",
   "language": "python",
   "name": "python3"
  },
  "language_info": {
   "codemirror_mode": {
    "name": "ipython",
    "version": 3
   },
   "file_extension": ".py",
   "mimetype": "text/x-python",
   "name": "python",
   "nbconvert_exporter": "python",
   "pygments_lexer": "ipython3",
   "version": "3.9.12"
  }
 },
 "nbformat": 4,
 "nbformat_minor": 5
}
