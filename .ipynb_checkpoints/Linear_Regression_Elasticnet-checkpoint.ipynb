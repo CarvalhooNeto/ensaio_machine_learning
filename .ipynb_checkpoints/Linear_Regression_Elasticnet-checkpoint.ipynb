{
 "cells": [
  {
   "cell_type": "markdown",
   "id": "5f153752",
   "metadata": {},
   "source": [
    "# 0.0 - Imports"
   ]
  },
  {
   "cell_type": "code",
   "execution_count": 1,
   "id": "8731d9ae",
   "metadata": {},
   "outputs": [
    {
     "name": "stderr",
     "output_type": "stream",
     "text": [
      "/home/aderaldo/anaconda3/lib/python3.9/site-packages/scipy/__init__.py:146: UserWarning: A NumPy version >=1.16.5 and <1.23.0 is required for this version of SciPy (detected version 1.23.0\n",
      "  warnings.warn(f\"A NumPy version >={np_minversion} and <{np_maxversion}\"\n"
     ]
    }
   ],
   "source": [
    "import pandas as pd\n",
    "import numpy as np\n",
    "from sklearn import linear_model as lm\n",
    "from sklearn import metrics as mt\n",
    "from matplotlib import pyplot as plt"
   ]
  },
  {
   "cell_type": "markdown",
   "id": "11b34566",
   "metadata": {},
   "source": [
    "# 1.0 - Load Dataset"
   ]
  },
  {
   "cell_type": "markdown",
   "id": "67bacf58",
   "metadata": {},
   "source": [
    "## 1.1 - Load Training Dataset"
   ]
  },
  {
   "cell_type": "code",
   "execution_count": 2,
   "id": "75d5b24d",
   "metadata": {},
   "outputs": [],
   "source": [
    "x_train = pd.read_csv('/home/aderaldo/estudos/comunidade_ds/fundamentos_de_machine_learning/projeto/Datasets/regressão/X_training.csv')"
   ]
  },
  {
   "cell_type": "code",
   "execution_count": 3,
   "id": "cbad932d",
   "metadata": {},
   "outputs": [],
   "source": [
    "y_train = pd.read_csv('/home/aderaldo/estudos/comunidade_ds/fundamentos_de_machine_learning/projeto/Datasets/regressão/y_training.csv')"
   ]
  },
  {
   "cell_type": "markdown",
   "id": "5990e35f",
   "metadata": {},
   "source": [
    "## 1.2 - Load Test Dataset"
   ]
  },
  {
   "cell_type": "code",
   "execution_count": 4,
   "id": "8e6636e2",
   "metadata": {},
   "outputs": [],
   "source": [
    "x_test = pd.read_csv('/home/aderaldo/estudos/comunidade_ds/fundamentos_de_machine_learning/projeto/Datasets/regressão/X_test.csv')"
   ]
  },
  {
   "cell_type": "code",
   "execution_count": 5,
   "id": "ba6b9f26",
   "metadata": {},
   "outputs": [],
   "source": [
    "y_test = pd.read_csv('/home/aderaldo/estudos/comunidade_ds/fundamentos_de_machine_learning/projeto/Datasets/regressão/y_test.csv')"
   ]
  },
  {
   "cell_type": "markdown",
   "id": "c41d3b22",
   "metadata": {},
   "source": [
    "## 1.3 - Load Validation Dataset"
   ]
  },
  {
   "cell_type": "code",
   "execution_count": 6,
   "id": "f808b73c",
   "metadata": {},
   "outputs": [],
   "source": [
    "x_val = pd.read_csv('/home/aderaldo/estudos/comunidade_ds/fundamentos_de_machine_learning/projeto/Datasets/regressão/X_validation.csv')"
   ]
  },
  {
   "cell_type": "code",
   "execution_count": 7,
   "id": "531ca052",
   "metadata": {},
   "outputs": [],
   "source": [
    "y_val = pd.read_csv('/home/aderaldo/estudos/comunidade_ds/fundamentos_de_machine_learning/projeto/Datasets/regressão/y_val.csv')"
   ]
  },
  {
   "cell_type": "markdown",
   "id": "3f8955e1",
   "metadata": {},
   "source": [
    "# 2.0 Training Model"
   ]
  },
  {
   "cell_type": "markdown",
   "id": "7bee3adc",
   "metadata": {},
   "source": [
    "## 2.1 - Fine Tunning"
   ]
  },
  {
   "cell_type": "code",
   "execution_count": 8,
   "id": "c8d2e335",
   "metadata": {},
   "outputs": [],
   "source": [
    "alpha_values = np.arange(2, 40, 2)\n",
    "r2_values = []\n",
    "\n",
    "for i in alpha_values:\n",
    "    model = lm.Ridge( alpha = i )\n",
    "    model.fit( x_train, y_train )\n",
    "    y_pred_final = model.predict( x_val )\n",
    "    r2 = mt.r2_score( y_val, y_pred_final )\n",
    "    r2_values.append( r2 )"
   ]
  },
  {
   "cell_type": "code",
   "execution_count": 9,
   "id": "6f9d72c2",
   "metadata": {},
   "outputs": [],
   "source": [
    "results = { \"alpha_values\": alpha_values, \"r2_values\":r2_values }\n",
    "results_df = pd.DataFrame( results )"
   ]
  },
  {
   "cell_type": "code",
   "execution_count": 10,
   "id": "8a9db4d0",
   "metadata": {},
   "outputs": [
    {
     "data": {
      "image/png": "[encoded data removed]",
      "text/plain": [
       "<Figure size 432x288 with 1 Axes>"
      ]
     },
     "metadata": {
      "needs_background": "light"
     },
     "output_type": "display_data"
    }
   ],
   "source": [
    "fig, ax = plt.subplots()\n",
    "results_df.plot(x='alpha_values', y='r2_values', marker = 'o', ax=ax)\n",
    "ax.set_xlim(2, 38)\n",
    "ax.set_xticks(np.arange(2, 40, 2));"
   ]
  },
  {
   "cell_type": "markdown",
   "id": "247bf9d3",
   "metadata": {},
   "source": [
    "## 2.1 - Training Over Training Dataset"
   ]
  },
  {
   "cell_type": "code",
   "execution_count": 11,
   "id": "931ae605",
   "metadata": {},
   "outputs": [
    {
     "data": {
      "text/plain": [
       "0.0"
      ]
     },
     "execution_count": 11,
     "metadata": {},
     "output_type": "execute_result"
    }
   ],
   "source": [
    "model = lm.Lasso( alpha = 8 )\n",
    "\n",
    "model.fit( x_train, y_train )\n",
    "\n",
    "y_pred_train = model.predict( x_train )\n",
    "\n",
    "mt.r2_score( y_train, y_pred_train)"
   ]
  },
  {
   "cell_type": "markdown",
   "id": "cad663f4",
   "metadata": {},
   "source": [
    "### Metrics"
   ]
  },
  {
   "cell_type": "code",
   "execution_count": 12,
   "id": "ad8651dd",
   "metadata": {},
   "outputs": [
    {
     "data": {
      "text/plain": [
       "0.0"
      ]
     },
     "execution_count": 12,
     "metadata": {},
     "output_type": "execute_result"
    }
   ],
   "source": [
    "# r2\n",
    "mt.r2_score( y_train, y_pred_train)"
   ]
  },
  {
   "cell_type": "code",
   "execution_count": 13,
   "id": "ce970722",
   "metadata": {},
   "outputs": [
    {
     "data": {
      "text/plain": [
       "478.012559979818"
      ]
     },
     "execution_count": 13,
     "metadata": {},
     "output_type": "execute_result"
    }
   ],
   "source": [
    "#MSE\n",
    "mt.mean_squared_error( y_train, y_pred_train )"
   ]
  },
  {
   "cell_type": "code",
   "execution_count": 14,
   "id": "a260944f",
   "metadata": {},
   "outputs": [
    {
     "data": {
      "text/plain": [
       "21.863498347241183"
      ]
     },
     "execution_count": 14,
     "metadata": {},
     "output_type": "execute_result"
    }
   ],
   "source": [
    "#RMSE\n",
    "mt.mean_squared_error(  y_train, y_pred_train, squared = False )"
   ]
  },
  {
   "cell_type": "code",
   "execution_count": 15,
   "id": "9067a7ce",
   "metadata": {},
   "outputs": [
    {
     "data": {
      "text/plain": [
       "8.742212844953096"
      ]
     },
     "execution_count": 15,
     "metadata": {},
     "output_type": "execute_result"
    }
   ],
   "source": [
    "#MAE\n",
    "mt.mean_absolute_percentage_error( y_train, y_pred_train )"
   ]
  },
  {
   "cell_type": "code",
   "execution_count": 16,
   "id": "ed84eff9",
   "metadata": {},
   "outputs": [
    {
     "data": {
      "text/plain": [
       "17.3650904457618"
      ]
     },
     "execution_count": 16,
     "metadata": {},
     "output_type": "execute_result"
    }
   ],
   "source": [
    "#MAPE\n",
    "mt.mean_absolute_error( y_train, y_pred_train )"
   ]
  },
  {
   "cell_type": "markdown",
   "id": "8d993fa0",
   "metadata": {},
   "source": [
    "## 2.2 - Training Over Test Dataset"
   ]
  },
  {
   "cell_type": "code",
   "execution_count": 17,
   "id": "4b82896f",
   "metadata": {},
   "outputs": [],
   "source": [
    "y_pred_test = model.predict( x_test )"
   ]
  },
  {
   "cell_type": "markdown",
   "id": "5e38654e",
   "metadata": {},
   "source": [
    "### Metrics"
   ]
  },
  {
   "cell_type": "code",
   "execution_count": 18,
   "id": "32d341c6",
   "metadata": {},
   "outputs": [
    {
     "data": {
      "text/plain": [
       "-0.0001242400734962068"
      ]
     },
     "execution_count": 18,
     "metadata": {},
     "output_type": "execute_result"
    }
   ],
   "source": [
    "# r2\n",
    "mt.r2_score( y_test, y_pred_test)"
   ]
  },
  {
   "cell_type": "code",
   "execution_count": 19,
   "id": "3c1fd815",
   "metadata": {},
   "outputs": [
    {
     "data": {
      "text/plain": [
       "486.96146850013093"
      ]
     },
     "execution_count": 19,
     "metadata": {},
     "output_type": "execute_result"
    }
   ],
   "source": [
    "#MSE\n",
    "mt.mean_squared_error(y_test, y_pred_test )"
   ]
  },
  {
   "cell_type": "code",
   "execution_count": 20,
   "id": "aa708199",
   "metadata": {},
   "outputs": [
    {
     "data": {
      "text/plain": [
       "22.06720345898254"
      ]
     },
     "execution_count": 20,
     "metadata": {},
     "output_type": "execute_result"
    }
   ],
   "source": [
    "#RMSE\n",
    "mt.mean_squared_error( y_test, y_pred_test, squared = False )"
   ]
  },
  {
   "cell_type": "code",
   "execution_count": 21,
   "id": "b0e45352",
   "metadata": {},
   "outputs": [
    {
     "data": {
      "text/plain": [
       "8.714549642759494"
      ]
     },
     "execution_count": 21,
     "metadata": {},
     "output_type": "execute_result"
    }
   ],
   "source": [
    "#MAE\n",
    "mt.mean_absolute_percentage_error( y_test, y_pred_test)"
   ]
  },
  {
   "cell_type": "code",
   "execution_count": 22,
   "id": "287213c9",
   "metadata": {},
   "outputs": [
    {
     "data": {
      "text/plain": [
       "17.551491953962177"
      ]
     },
     "execution_count": 22,
     "metadata": {},
     "output_type": "execute_result"
    }
   ],
   "source": [
    "#MAPE\n",
    "mt.mean_absolute_error( y_test, y_pred_test)"
   ]
  },
  {
   "cell_type": "markdown",
   "id": "c5cfd472",
   "metadata": {},
   "source": [
    "## 2.3 Training Over Validation Dataset"
   ]
  },
  {
   "cell_type": "code",
   "execution_count": 23,
   "id": "b95d5748",
   "metadata": {},
   "outputs": [],
   "source": [
    "y_pred_val = model.predict( x_val )"
   ]
  },
  {
   "cell_type": "code",
   "execution_count": 24,
   "id": "7c475fba",
   "metadata": {},
   "outputs": [
    {
     "data": {
      "text/plain": [
       "-7.197077047660372e-07"
      ]
     },
     "execution_count": 24,
     "metadata": {},
     "output_type": "execute_result"
    }
   ],
   "source": [
    "# r2\n",
    "mt.r2_score( y_val, y_pred_val)"
   ]
  },
  {
   "cell_type": "code",
   "execution_count": 25,
   "id": "66e5d53a",
   "metadata": {},
   "outputs": [
    {
     "data": {
      "text/plain": [
       "477.5119556252973"
      ]
     },
     "execution_count": 25,
     "metadata": {},
     "output_type": "execute_result"
    }
   ],
   "source": [
    "#MSE\n",
    "mt.mean_squared_error( y_val, y_pred_val)"
   ]
  },
  {
   "cell_type": "code",
   "execution_count": 26,
   "id": "70714c84",
   "metadata": {},
   "outputs": [
    {
     "data": {
      "text/plain": [
       "21.85204694359998"
      ]
     },
     "execution_count": 26,
     "metadata": {},
     "output_type": "execute_result"
    }
   ],
   "source": [
    "#RMSE\n",
    "mt.mean_squared_error( y_val, y_pred_val, squared = False )"
   ]
  },
  {
   "cell_type": "code",
   "execution_count": 27,
   "id": "8f19b1fb",
   "metadata": {},
   "outputs": [
    {
     "data": {
      "text/plain": [
       "8.678722362628074"
      ]
     },
     "execution_count": 27,
     "metadata": {},
     "output_type": "execute_result"
    }
   ],
   "source": [
    "#MAE\n",
    "mt.mean_absolute_percentage_error( y_val, y_pred_val)"
   ]
  },
  {
   "cell_type": "code",
   "execution_count": 28,
   "id": "63974da4",
   "metadata": {},
   "outputs": [
    {
     "data": {
      "text/plain": [
       "17.352835945449478"
      ]
     },
     "execution_count": 28,
     "metadata": {},
     "output_type": "execute_result"
    }
   ],
   "source": [
    "#MAPE\n",
    "mt.mean_absolute_error( y_val, y_pred_val )"
   ]
  }
 ],
 "metadata": {
  "kernelspec": {
   "display_name": "Python 3 (ipykernel)",
   "language": "python",
   "name": "python3"
  },
  "language_info": {
   "codemirror_mode": {
    "name": "ipython",
    "version": 3
   },
   "file_extension": ".py",
   "mimetype": "text/x-python",
   "name": "python",
   "nbconvert_exporter": "python",
   "pygments_lexer": "ipython3",
   "version": "3.9.12"
  }
 },
 "nbformat": 4,
 "nbformat_minor": 5
}
