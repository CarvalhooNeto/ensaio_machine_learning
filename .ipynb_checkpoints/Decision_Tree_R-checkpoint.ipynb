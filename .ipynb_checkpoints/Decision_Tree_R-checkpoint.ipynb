{
 "cells": [
  {
   "cell_type": "markdown",
   "id": "b5504d57",
   "metadata": {},
   "source": [
    "# 0.0 - Imports"
   ]
  },
  {
   "cell_type": "code",
   "execution_count": 32,
   "id": "0987bb51",
   "metadata": {},
   "outputs": [],
   "source": [
    "import pandas as pd\n",
    "import numpy as np\n",
    "from sklearn import tree as tr\n",
    "from sklearn import metrics as mt"
   ]
  },
  {
   "cell_type": "markdown",
   "id": "7cd21e8f",
   "metadata": {},
   "source": [
    "# 1.0 - Load Dataset"
   ]
  },
  {
   "cell_type": "markdown",
   "id": "7008098c",
   "metadata": {},
   "source": [
    "## 1.1 - Training Dataset"
   ]
  },
  {
   "cell_type": "code",
   "execution_count": 22,
   "id": "6a286a12",
   "metadata": {},
   "outputs": [],
   "source": [
    "x_train = pd.read_csv('/home/aderaldo/estudos/comunidade_ds/fundamentos_de_machine_learning/projeto/Datasets/regressão/X_training.csv')"
   ]
  },
  {
   "cell_type": "code",
   "execution_count": 23,
   "id": "d3b9897f",
   "metadata": {},
   "outputs": [],
   "source": [
    "y_train = pd.read_csv('/home/aderaldo/estudos/comunidade_ds/fundamentos_de_machine_learning/projeto/Datasets/regressão/y_training.csv')"
   ]
  },
  {
   "cell_type": "markdown",
   "id": "a81a40f6",
   "metadata": {},
   "source": [
    "## 1.2 - Test Dataset"
   ]
  },
  {
   "cell_type": "code",
   "execution_count": 24,
   "id": "3d008499",
   "metadata": {},
   "outputs": [],
   "source": [
    "x_test = pd.read_csv('/home/aderaldo/estudos/comunidade_ds/fundamentos_de_machine_learning/projeto/Datasets/regressão/X_test.csv')"
   ]
  },
  {
   "cell_type": "code",
   "execution_count": 25,
   "id": "1084dc20",
   "metadata": {},
   "outputs": [],
   "source": [
    "y_test = pd.read_csv('/home/aderaldo/estudos/comunidade_ds/fundamentos_de_machine_learning/projeto/Datasets/regressão/y_test.csv')"
   ]
  },
  {
   "cell_type": "markdown",
   "id": "9f74325a",
   "metadata": {},
   "source": [
    "## 1.3 - Validation Dataset"
   ]
  },
  {
   "cell_type": "code",
   "execution_count": 26,
   "id": "2bd2b233",
   "metadata": {},
   "outputs": [],
   "source": [
    "x_val = pd.read_csv('/home/aderaldo/estudos/comunidade_ds/fundamentos_de_machine_learning/projeto/Datasets/regressão/X_validation.csv')"
   ]
  },
  {
   "cell_type": "code",
   "execution_count": 28,
   "id": "28110369",
   "metadata": {},
   "outputs": [],
   "source": [
    "y_val = pd.read_csv('/home/aderaldo/estudos/comunidade_ds/fundamentos_de_machine_learning/projeto/Datasets/regressão/y_val.csv')"
   ]
  },
  {
   "cell_type": "markdown",
   "id": "d4944ac6",
   "metadata": {},
   "source": [
    "# 2.0 - Training Model"
   ]
  },
  {
   "cell_type": "code",
   "execution_count": 52,
   "id": "7494ad3f",
   "metadata": {},
   "outputs": [],
   "source": [
    "depth_values = np.arange(2, 30, 2)\n",
    "r2_values = []\n",
    "\n",
    "for i in depth_values:\n",
    "    model_tree = tr.DecisionTreeRegressor( max_depth = i, random_state = 0 )\n",
    "    model_tree.fit( x_train, y_train )\n",
    "    y_pred = model_tree.predict( x_val )\n",
    "    mse = mt.r2_score( y_val, y_pred )\n",
    "    r2_values.append( mse )"
   ]
  },
  {
   "cell_type": "code",
   "execution_count": 53,
   "id": "f78d7d59",
   "metadata": {},
   "outputs": [],
   "source": [
    "results = {\"depth_values\" : depth_values, \"r2_values\" : r2_values }\n",
    "results_df = pd.DataFrame( results )"
   ]
  },
  {
   "cell_type": "code",
   "execution_count": 55,
   "id": "c6e7b6d1",
   "metadata": {},
   "outputs": [
    {
     "data": {
      "text/html": [
       "<div>\n",
       "<style scoped>\n",
       "    .dataframe tbody tr th:only-of-type {\n",
       "        vertical-align: middle;\n",
       "    }\n",
       "\n",
       "    .dataframe tbody tr th {\n",
       "        vertical-align: top;\n",
       "    }\n",
       "\n",
       "    .dataframe thead th {\n",
       "        text-align: right;\n",
       "    }\n",
       "</style>\n",
       "<table border=\"1\" class=\"dataframe\">\n",
       "  <thead>\n",
       "    <tr style=\"text-align: right;\">\n",
       "      <th></th>\n",
       "      <th>depth_values</th>\n",
       "      <th>r2_values</th>\n",
       "    </tr>\n",
       "  </thead>\n",
       "  <tbody>\n",
       "    <tr>\n",
       "      <th>2</th>\n",
       "      <td>6</td>\n",
       "      <td>0.063296</td>\n",
       "    </tr>\n",
       "    <tr>\n",
       "      <th>1</th>\n",
       "      <td>4</td>\n",
       "      <td>0.062168</td>\n",
       "    </tr>\n",
       "    <tr>\n",
       "      <th>0</th>\n",
       "      <td>2</td>\n",
       "      <td>0.037609</td>\n",
       "    </tr>\n",
       "    <tr>\n",
       "      <th>3</th>\n",
       "      <td>8</td>\n",
       "      <td>0.034896</td>\n",
       "    </tr>\n",
       "    <tr>\n",
       "      <th>4</th>\n",
       "      <td>10</td>\n",
       "      <td>-0.005483</td>\n",
       "    </tr>\n",
       "    <tr>\n",
       "      <th>5</th>\n",
       "      <td>12</td>\n",
       "      <td>-0.063329</td>\n",
       "    </tr>\n",
       "    <tr>\n",
       "      <th>6</th>\n",
       "      <td>14</td>\n",
       "      <td>-0.124421</td>\n",
       "    </tr>\n",
       "    <tr>\n",
       "      <th>7</th>\n",
       "      <td>16</td>\n",
       "      <td>-0.167414</td>\n",
       "    </tr>\n",
       "    <tr>\n",
       "      <th>8</th>\n",
       "      <td>18</td>\n",
       "      <td>-0.211798</td>\n",
       "    </tr>\n",
       "    <tr>\n",
       "      <th>9</th>\n",
       "      <td>20</td>\n",
       "      <td>-0.261266</td>\n",
       "    </tr>\n",
       "    <tr>\n",
       "      <th>10</th>\n",
       "      <td>22</td>\n",
       "      <td>-0.282154</td>\n",
       "    </tr>\n",
       "    <tr>\n",
       "      <th>13</th>\n",
       "      <td>28</td>\n",
       "      <td>-0.283251</td>\n",
       "    </tr>\n",
       "    <tr>\n",
       "      <th>11</th>\n",
       "      <td>24</td>\n",
       "      <td>-0.299539</td>\n",
       "    </tr>\n",
       "    <tr>\n",
       "      <th>12</th>\n",
       "      <td>26</td>\n",
       "      <td>-0.308489</td>\n",
       "    </tr>\n",
       "  </tbody>\n",
       "</table>\n",
       "</div>"
      ],
      "text/plain": [
       "    depth_values  r2_values\n",
       "2              6   0.063296\n",
       "1              4   0.062168\n",
       "0              2   0.037609\n",
       "3              8   0.034896\n",
       "4             10  -0.005483\n",
       "5             12  -0.063329\n",
       "6             14  -0.124421\n",
       "7             16  -0.167414\n",
       "8             18  -0.211798\n",
       "9             20  -0.261266\n",
       "10            22  -0.282154\n",
       "13            28  -0.283251\n",
       "11            24  -0.299539\n",
       "12            26  -0.308489"
      ]
     },
     "execution_count": 55,
     "metadata": {},
     "output_type": "execute_result"
    }
   ],
   "source": [
    "results_df.sort_values( by = \"r2_values\", ascending = False)"
   ]
  },
  {
   "cell_type": "markdown",
   "id": "50ff4621",
   "metadata": {},
   "source": [
    "## 2.1 - Houldout Validation"
   ]
  },
  {
   "cell_type": "code",
   "execution_count": null,
   "id": "6cc3cebc",
   "metadata": {},
   "outputs": [],
   "source": [
    "model_tree = tr.DecisionTreeRegressor( max_depth = 6, random_state = 0 )\n",
    "model_tree.fit( np.concatenate( (x_train, x_val) ), np.concatenate((y_train, y_val)) )\n",
    "y_pred_final = model_tree.predict( x_)"
   ]
  },
  {
   "cell_type": "markdown",
   "id": "b6a390f1",
   "metadata": {},
   "source": [
    "# 3.0 - Metrics"
   ]
  },
  {
   "cell_type": "code",
   "execution_count": null,
   "id": "2697b33a",
   "metadata": {},
   "outputs": [],
   "source": []
  },
  {
   "cell_type": "code",
   "execution_count": null,
   "id": "58d50a10",
   "metadata": {},
   "outputs": [],
   "source": []
  },
  {
   "cell_type": "code",
   "execution_count": null,
   "id": "e1d0f67b",
   "metadata": {},
   "outputs": [],
   "source": []
  },
  {
   "cell_type": "code",
   "execution_count": null,
   "id": "3b0e72d4",
   "metadata": {},
   "outputs": [],
   "source": []
  }
 ],
 "metadata": {
  "kernelspec": {
   "display_name": "Python 3 (ipykernel)",
   "language": "python",
   "name": "python3"
  },
  "language_info": {
   "codemirror_mode": {
    "name": "ipython",
    "version": 3
   },
   "file_extension": ".py",
   "mimetype": "text/x-python",
   "name": "python",
   "nbconvert_exporter": "python",
   "pygments_lexer": "ipython3",
   "version": "3.9.12"
  }
 },
 "nbformat": 4,
 "nbformat_minor": 5
}
