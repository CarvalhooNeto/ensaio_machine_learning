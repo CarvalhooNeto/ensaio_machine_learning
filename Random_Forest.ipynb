{
 "cells": [
  {
   "cell_type": "markdown",
   "id": "24f808ec",
   "metadata": {},
   "source": [
    "# 0.0 - Imports"
   ]
  },
  {
   "cell_type": "code",
   "execution_count": 1,
   "id": "9b3bac87",
   "metadata": {},
   "outputs": [
    {
     "name": "stderr",
     "output_type": "stream",
     "text": [
      "/home/aderaldo/anaconda3/lib/python3.9/site-packages/scipy/__init__.py:146: UserWarning: A NumPy version >=1.16.5 and <1.23.0 is required for this version of SciPy (detected version 1.23.0\n",
      "  warnings.warn(f\"A NumPy version >={np_minversion} and <{np_maxversion}\"\n"
     ]
    }
   ],
   "source": [
    "import pandas as pd\n",
    "import numpy as np\n",
    "from sklearn import ensemble as en\n",
    "from sklearn import metrics as mt\n",
    "from matplotlib import pyplot as plt"
   ]
  },
  {
   "cell_type": "markdown",
   "id": "6815a0fa",
   "metadata": {},
   "source": [
    "# 1.0 - Load Dataset"
   ]
  },
  {
   "cell_type": "markdown",
   "id": "299bec60",
   "metadata": {},
   "source": [
    "## 1.1 - Training Dataset"
   ]
  },
  {
   "cell_type": "code",
   "execution_count": 2,
   "id": "49f3640a",
   "metadata": {},
   "outputs": [],
   "source": [
    "df1 = pd.read_csv('/home/aderaldo/estudos/comunidade_ds/fundamentos_de_machine_learning/projeto/Datasets/classificação/X_training.csv')"
   ]
  },
  {
   "cell_type": "code",
   "execution_count": 3,
   "id": "f12b2574",
   "metadata": {},
   "outputs": [],
   "source": [
    "df2 = pd.read_csv('/home/aderaldo/estudos/comunidade_ds/fundamentos_de_machine_learning/projeto/Datasets/classificação/y_training.csv')"
   ]
  },
  {
   "cell_type": "markdown",
   "id": "68f35395",
   "metadata": {},
   "source": [
    "## 1.3 - Test Dataset"
   ]
  },
  {
   "cell_type": "code",
   "execution_count": 4,
   "id": "7ffe8e2d",
   "metadata": {},
   "outputs": [],
   "source": [
    "df3 = pd.read_csv('/home/aderaldo/estudos/comunidade_ds/fundamentos_de_machine_learning/projeto/Datasets/classificação/X_test.csv')"
   ]
  },
  {
   "cell_type": "code",
   "execution_count": 5,
   "id": "f52a4cf3",
   "metadata": {},
   "outputs": [],
   "source": [
    "df4 = pd.read_csv('/home/aderaldo/estudos/comunidade_ds/fundamentos_de_machine_learning/projeto/Datasets/classificação/y_test.csv')"
   ]
  },
  {
   "cell_type": "markdown",
   "id": "f0d729d7",
   "metadata": {},
   "source": [
    "## 1.2 - Valdiation Dataset"
   ]
  },
  {
   "cell_type": "code",
   "execution_count": 6,
   "id": "8135a65f",
   "metadata": {},
   "outputs": [],
   "source": [
    "df5 = pd.read_csv('/home/aderaldo/estudos/comunidade_ds/fundamentos_de_machine_learning/projeto/Datasets/classificação/X_validation.csv')"
   ]
  },
  {
   "cell_type": "code",
   "execution_count": 7,
   "id": "d2993717",
   "metadata": {},
   "outputs": [],
   "source": [
    "df6 = pd.read_csv('/home/aderaldo/estudos/comunidade_ds/fundamentos_de_machine_learning/projeto/Datasets/classificação/y_validation.csv')"
   ]
  },
  {
   "cell_type": "markdown",
   "id": "f018437c",
   "metadata": {},
   "source": [
    "## 1.4 - Feature Selection"
   ]
  },
  {
   "cell_type": "code",
   "execution_count": 8,
   "id": "2b40dd55",
   "metadata": {},
   "outputs": [],
   "source": [
    "features = ['customer_type', 'age', 'class', 'flight_distance',\n",
    "       'inflight_wifi_service', 'departure_arrival_time_convenient',\n",
    "       'ease_of_online_booking', 'gate_location', 'food_and_drink',\n",
    "       'online_boarding', 'seat_comfort', 'inflight_entertainment',\n",
    "       'on_board_service', 'leg_room_service', 'baggage_handling',\n",
    "       'checkin_service', 'inflight_service', 'cleanliness',\n",
    "       'departure_delay_in_minutes', 'arrival_delay_in_minutes',\n",
    "       'gender_Female', 'gender_Male', 'type_of_travel_business_travel',\n",
    "       'type_of_travel_personal_travel']"
   ]
  },
  {
   "cell_type": "code",
   "execution_count": 9,
   "id": "9e673553",
   "metadata": {},
   "outputs": [],
   "source": [
    "x_train = df1.loc[:, features]"
   ]
  },
  {
   "cell_type": "code",
   "execution_count": 10,
   "id": "019528d5",
   "metadata": {},
   "outputs": [],
   "source": [
    "y_train = df2['0'].values"
   ]
  },
  {
   "cell_type": "code",
   "execution_count": 11,
   "id": "b2867c77",
   "metadata": {},
   "outputs": [],
   "source": [
    "x_test = df3.loc[:, features]"
   ]
  },
  {
   "cell_type": "code",
   "execution_count": 12,
   "id": "cc89fab8",
   "metadata": {},
   "outputs": [],
   "source": [
    "y_test = df4['0'].values"
   ]
  },
  {
   "cell_type": "code",
   "execution_count": 13,
   "id": "d25fcd14",
   "metadata": {},
   "outputs": [],
   "source": [
    "x_val = df5.loc[:, features]"
   ]
  },
  {
   "cell_type": "code",
   "execution_count": 14,
   "id": "af90529b",
   "metadata": {},
   "outputs": [],
   "source": [
    "y_val = df6['0'].values"
   ]
  },
  {
   "cell_type": "markdown",
   "id": "17a98589",
   "metadata": {},
   "source": [
    "# 2.0 - Training"
   ]
  },
  {
   "cell_type": "markdown",
   "id": "b3cd1dd9",
   "metadata": {},
   "source": [
    "## 2.1 - Fine Tunning"
   ]
  },
  {
   "cell_type": "code",
   "execution_count": 15,
   "id": "182264c3",
   "metadata": {},
   "outputs": [
    {
     "name": "stdout",
     "output_type": "stream",
     "text": [
      "valor do max_depth: 2\n",
      "accuracy: 0.8651179252871714 \n",
      "\n",
      "valor do max_depth: 4\n",
      "accuracy: 0.9074938061070176 \n",
      "\n",
      "valor do max_depth: 6\n",
      "accuracy: 0.929373531966923 \n",
      "\n",
      "valor do max_depth: 8\n",
      "accuracy: 0.9378036616364748 \n",
      "\n",
      "valor do max_depth: 10\n",
      "accuracy: 0.9472634254641398 \n",
      "\n",
      "valor do max_depth: 12\n",
      "accuracy: 0.9536986389523473 \n",
      "\n",
      "valor do max_depth: 14\n",
      "accuracy: 0.9582354644615335 \n",
      "\n",
      "valor do max_depth: 16\n",
      "accuracy: 0.9601660285079957 \n",
      "\n",
      "valor do max_depth: 18\n",
      "accuracy: 0.9611634865986679 \n",
      "\n",
      "valor do max_depth: 20\n",
      "accuracy: 0.9619357122172528 \n",
      "\n",
      "valor do max_depth: 22\n",
      "accuracy: 0.9621609446893401 \n",
      "\n",
      "valor do max_depth: 24\n",
      "accuracy: 0.9624505292963094 \n",
      "\n",
      "valor do max_depth: 26\n",
      "accuracy: 0.9626435857009557 \n",
      "\n",
      "valor do max_depth: 28\n",
      "accuracy: 0.9626757617683966 \n",
      "\n"
     ]
    }
   ],
   "source": [
    "depth_values = np.arange( 2, 30, 2 )\n",
    "accuracy_values = []\n",
    "\n",
    "for i in depth_values:\n",
    "    print(\"valor do max_depth: {}\".format( i ))\n",
    "    model = en.RandomForestClassifier(n_estimators=100, max_depth = i, random_state=0)\n",
    "    model.fit(x_train, y_train)\n",
    "    y_pred_test = model.predict( x_val )\n",
    "    accuracy = mt.accuracy_score( y_val, y_pred_test )\n",
    "    accuracy_values.append( accuracy )\n",
    "    print( \"accuracy: {} \\n\".format( accuracy ))"
   ]
  },
  {
   "cell_type": "code",
   "execution_count": 16,
   "id": "a10a7500",
   "metadata": {},
   "outputs": [],
   "source": [
    "results = {'depth_values': depth_values, \"accuracy_values\" : accuracy_values}\n",
    "results_df = pd.DataFrame(results)"
   ]
  },
  {
   "cell_type": "code",
   "execution_count": 17,
   "id": "5601cb4d",
   "metadata": {},
   "outputs": [
    {
     "data": {
      "text/html": [
       "<div>\n",
       "<style scoped>\n",
       "    .dataframe tbody tr th:only-of-type {\n",
       "        vertical-align: middle;\n",
       "    }\n",
       "\n",
       "    .dataframe tbody tr th {\n",
       "        vertical-align: top;\n",
       "    }\n",
       "\n",
       "    .dataframe thead th {\n",
       "        text-align: right;\n",
       "    }\n",
       "</style>\n",
       "<table border=\"1\" class=\"dataframe\">\n",
       "  <thead>\n",
       "    <tr style=\"text-align: right;\">\n",
       "      <th></th>\n",
       "      <th>depth_values</th>\n",
       "      <th>accuracy_values</th>\n",
       "    </tr>\n",
       "  </thead>\n",
       "  <tbody>\n",
       "    <tr>\n",
       "      <th>13</th>\n",
       "      <td>28</td>\n",
       "      <td>0.962676</td>\n",
       "    </tr>\n",
       "    <tr>\n",
       "      <th>12</th>\n",
       "      <td>26</td>\n",
       "      <td>0.962644</td>\n",
       "    </tr>\n",
       "    <tr>\n",
       "      <th>11</th>\n",
       "      <td>24</td>\n",
       "      <td>0.962451</td>\n",
       "    </tr>\n",
       "    <tr>\n",
       "      <th>10</th>\n",
       "      <td>22</td>\n",
       "      <td>0.962161</td>\n",
       "    </tr>\n",
       "    <tr>\n",
       "      <th>9</th>\n",
       "      <td>20</td>\n",
       "      <td>0.961936</td>\n",
       "    </tr>\n",
       "    <tr>\n",
       "      <th>8</th>\n",
       "      <td>18</td>\n",
       "      <td>0.961163</td>\n",
       "    </tr>\n",
       "    <tr>\n",
       "      <th>7</th>\n",
       "      <td>16</td>\n",
       "      <td>0.960166</td>\n",
       "    </tr>\n",
       "    <tr>\n",
       "      <th>6</th>\n",
       "      <td>14</td>\n",
       "      <td>0.958235</td>\n",
       "    </tr>\n",
       "    <tr>\n",
       "      <th>5</th>\n",
       "      <td>12</td>\n",
       "      <td>0.953699</td>\n",
       "    </tr>\n",
       "    <tr>\n",
       "      <th>4</th>\n",
       "      <td>10</td>\n",
       "      <td>0.947263</td>\n",
       "    </tr>\n",
       "    <tr>\n",
       "      <th>3</th>\n",
       "      <td>8</td>\n",
       "      <td>0.937804</td>\n",
       "    </tr>\n",
       "    <tr>\n",
       "      <th>2</th>\n",
       "      <td>6</td>\n",
       "      <td>0.929374</td>\n",
       "    </tr>\n",
       "    <tr>\n",
       "      <th>1</th>\n",
       "      <td>4</td>\n",
       "      <td>0.907494</td>\n",
       "    </tr>\n",
       "    <tr>\n",
       "      <th>0</th>\n",
       "      <td>2</td>\n",
       "      <td>0.865118</td>\n",
       "    </tr>\n",
       "  </tbody>\n",
       "</table>\n",
       "</div>"
      ],
      "text/plain": [
       "    depth_values  accuracy_values\n",
       "13            28         0.962676\n",
       "12            26         0.962644\n",
       "11            24         0.962451\n",
       "10            22         0.962161\n",
       "9             20         0.961936\n",
       "8             18         0.961163\n",
       "7             16         0.960166\n",
       "6             14         0.958235\n",
       "5             12         0.953699\n",
       "4             10         0.947263\n",
       "3              8         0.937804\n",
       "2              6         0.929374\n",
       "1              4         0.907494\n",
       "0              2         0.865118"
      ]
     },
     "execution_count": 17,
     "metadata": {},
     "output_type": "execute_result"
    }
   ],
   "source": [
    "results_df.sort_values(by = \"accuracy_values\", ascending = False)"
   ]
  },
  {
   "cell_type": "markdown",
   "id": "77441472",
   "metadata": {},
   "source": [
    "## 2.2 - Houldout Validation"
   ]
  },
  {
   "cell_type": "code",
   "execution_count": 18,
   "id": "b8559d6c",
   "metadata": {},
   "outputs": [
    {
     "name": "stderr",
     "output_type": "stream",
     "text": [
      "/home/aderaldo/anaconda3/lib/python3.9/site-packages/sklearn/base.py:443: UserWarning: X has feature names, but RandomForestClassifier was fitted without feature names\n",
      "  warnings.warn(\n"
     ]
    },
    {
     "data": {
      "text/plain": [
       "0.9628084810566563"
      ]
     },
     "execution_count": 18,
     "metadata": {},
     "output_type": "execute_result"
    }
   ],
   "source": [
    "# Model definition\n",
    "model = en.RandomForestClassifier(n_estimators=100, max_depth=28, random_state=0)\n",
    "# Fit\n",
    "model.fit ( np.concatenate( ( x_train, x_val) ) , np.concatenate( ( y_train, y_val ) ) )\n",
    "# Predict\n",
    "y_pred_final = model.predict( x_test )\n",
    "# Performance\n",
    "mt.accuracy_score( y_test, y_pred_final )"
   ]
  },
  {
   "cell_type": "markdown",
   "id": "2a0d73cd",
   "metadata": {},
   "source": [
    "# 3.0 - Metrics"
   ]
  },
  {
   "cell_type": "code",
   "execution_count": 37,
   "id": "f0387ce8",
   "metadata": {},
   "outputs": [
    {
     "data": {
      "text/plain": [
       "0.9721314451706609"
      ]
     },
     "execution_count": 37,
     "metadata": {},
     "output_type": "execute_result"
    }
   ],
   "source": [
    "mt.precision_score(y_test, y_pred_final)"
   ]
  },
  {
   "cell_type": "code",
   "execution_count": 38,
   "id": "28700ce5",
   "metadata": {},
   "outputs": [
    {
     "data": {
      "text/plain": [
       "0.9422789265288165"
      ]
     },
     "execution_count": 38,
     "metadata": {},
     "output_type": "execute_result"
    }
   ],
   "source": [
    "mt.recall_score(y_test, y_pred_final)"
   ]
  },
  {
   "cell_type": "code",
   "execution_count": 39,
   "id": "fa6d1211",
   "metadata": {},
   "outputs": [
    {
     "data": {
      "text/plain": [
       "0.956972431973549"
      ]
     },
     "execution_count": 39,
     "metadata": {},
     "output_type": "execute_result"
    }
   ],
   "source": [
    "mt.f1_score(y_test, y_pred_final)"
   ]
  },
  {
   "cell_type": "code",
   "execution_count": 24,
   "id": "5d6cad16",
   "metadata": {},
   "outputs": [
    {
     "data": {
      "text/plain": [
       "Feature name: 0     0.044728\n",
       "Feature name: 1     0.030653\n",
       "Feature name: 2     0.079007\n",
       "Feature name: 3     0.033061\n",
       "Feature name: 4     0.135725\n",
       "Feature name: 5     0.014394\n",
       "Feature name: 6     0.036559\n",
       "Feature name: 7     0.015507\n",
       "Feature name: 8     0.010568\n",
       "Feature name: 9     0.177593\n",
       "Feature name: 10    0.039382\n",
       "Feature name: 11    0.052208\n",
       "Feature name: 12    0.027247\n",
       "Feature name: 13    0.031681\n",
       "Feature name: 14    0.028878\n",
       "Feature name: 15    0.024973\n",
       "Feature name: 16    0.026627\n",
       "Feature name: 17    0.029128\n",
       "Feature name: 18    0.010804\n",
       "Feature name: 19    0.012158\n",
       "Feature name: 20    0.003052\n",
       "Feature name: 21    0.003054\n",
       "Feature name: 22    0.077680\n",
       "Feature name: 23    0.055330\n",
       "dtype: float64"
      ]
     },
     "execution_count": 24,
     "metadata": {},
     "output_type": "execute_result"
    }
   ],
   "source": [
    "feature_names = [f\"Feature name: {i}\" for i in range(x_train.shape[1])]\n",
    "importances = model.feature_importances_\n",
    "pd.Series( importances, index = feature_names)"
   ]
  }
 ],
 "metadata": {
  "kernelspec": {
   "display_name": "Python 3 (ipykernel)",
   "language": "python",
   "name": "python3"
  },
  "language_info": {
   "codemirror_mode": {
    "name": "ipython",
    "version": 3
   },
   "file_extension": ".py",
   "mimetype": "text/x-python",
   "name": "python",
   "nbconvert_exporter": "python",
   "pygments_lexer": "ipython3",
   "version": "3.9.12"
  }
 },
 "nbformat": 4,
 "nbformat_minor": 5
}
