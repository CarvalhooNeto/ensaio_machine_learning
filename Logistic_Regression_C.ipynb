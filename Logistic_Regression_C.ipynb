{
 "cells": [
  {
   "cell_type": "markdown",
   "id": "59187a99",
   "metadata": {},
   "source": [
    "# 0.0 - Imports"
   ]
  },
  {
   "cell_type": "code",
   "execution_count": 18,
   "id": "16f2bb1d",
   "metadata": {},
   "outputs": [],
   "source": [
    "import pandas as pd\n",
    "import numpy as np\n",
    "from sklearn import linear_model as lm\n",
    "from sklearn import metrics as mt"
   ]
  },
  {
   "cell_type": "markdown",
   "id": "21b6af2e",
   "metadata": {},
   "source": [
    "# 1.0 - Load Dataset"
   ]
  },
  {
   "cell_type": "markdown",
   "id": "fb9279e9",
   "metadata": {},
   "source": [
    "# 1.1 - Training Dataset"
   ]
  },
  {
   "cell_type": "code",
   "execution_count": 2,
   "id": "ca60df49",
   "metadata": {},
   "outputs": [],
   "source": [
    "df1 = pd.read_csv('/home/aderaldo/estudos/comunidade_ds/fundamentos_de_machine_learning/projeto/Datasets/classificação/X_training.csv')"
   ]
  },
  {
   "cell_type": "code",
   "execution_count": 3,
   "id": "129601de",
   "metadata": {},
   "outputs": [],
   "source": [
    "df2 = pd.read_csv('/home/aderaldo/estudos/comunidade_ds/fundamentos_de_machine_learning/projeto/Datasets/classificação/y_training.csv')"
   ]
  },
  {
   "cell_type": "markdown",
   "id": "0de165e8",
   "metadata": {},
   "source": [
    "# 1.2 - Test Dataset"
   ]
  },
  {
   "cell_type": "code",
   "execution_count": 4,
   "id": "3d8314a9",
   "metadata": {},
   "outputs": [],
   "source": [
    "df3 = pd.read_csv('/home/aderaldo/estudos/comunidade_ds/fundamentos_de_machine_learning/projeto/Datasets/classificação/X_test.csv')"
   ]
  },
  {
   "cell_type": "code",
   "execution_count": 5,
   "id": "be5ac205",
   "metadata": {},
   "outputs": [],
   "source": [
    "df4 = pd.read_csv('/home/aderaldo/estudos/comunidade_ds/fundamentos_de_machine_learning/projeto/Datasets/classificação/y_test.csv')"
   ]
  },
  {
   "cell_type": "markdown",
   "id": "8ac2b23b",
   "metadata": {},
   "source": [
    "# 1.3 - Validation Dataset"
   ]
  },
  {
   "cell_type": "code",
   "execution_count": 6,
   "id": "31af9228",
   "metadata": {},
   "outputs": [],
   "source": [
    "df5 = pd.read_csv('/home/aderaldo/estudos/comunidade_ds/fundamentos_de_machine_learning/projeto/Datasets/classificação/X_validation.csv')"
   ]
  },
  {
   "cell_type": "code",
   "execution_count": 7,
   "id": "b8a813d7",
   "metadata": {},
   "outputs": [],
   "source": [
    "df6 = pd.read_csv('/home/aderaldo/estudos/comunidade_ds/fundamentos_de_machine_learning/projeto/Datasets/classificação/y_validation.csv')"
   ]
  },
  {
   "cell_type": "markdown",
   "id": "03283952",
   "metadata": {},
   "source": [
    "# 1.4 - Feature Selection"
   ]
  },
  {
   "cell_type": "code",
   "execution_count": 8,
   "id": "5e5efb18",
   "metadata": {},
   "outputs": [],
   "source": [
    "features = ['customer_type', 'age', 'class', 'flight_distance',\n",
    "       'inflight_wifi_service', 'departure_arrival_time_convenient',\n",
    "       'ease_of_online_booking', 'gate_location', 'food_and_drink',\n",
    "       'online_boarding', 'seat_comfort', 'inflight_entertainment',\n",
    "       'on_board_service', 'leg_room_service', 'baggage_handling',\n",
    "       'checkin_service', 'inflight_service', 'cleanliness',\n",
    "       'departure_delay_in_minutes', 'arrival_delay_in_minutes',\n",
    "       'gender_Female', 'gender_Male', 'type_of_travel_business_travel',\n",
    "       'type_of_travel_personal_travel']"
   ]
  },
  {
   "cell_type": "code",
   "execution_count": 9,
   "id": "df230d7f",
   "metadata": {},
   "outputs": [],
   "source": [
    "x_train = df1.loc[:, features]"
   ]
  },
  {
   "cell_type": "code",
   "execution_count": 20,
   "id": "0f4d0817",
   "metadata": {},
   "outputs": [],
   "source": [
    "y_train = df2['0'].values"
   ]
  },
  {
   "cell_type": "code",
   "execution_count": 12,
   "id": "944666a2",
   "metadata": {},
   "outputs": [],
   "source": [
    "x_test = df3.loc[:, features]"
   ]
  },
  {
   "cell_type": "code",
   "execution_count": 21,
   "id": "aaadc49e",
   "metadata": {},
   "outputs": [],
   "source": [
    "y_test = df4['0'].values"
   ]
  },
  {
   "cell_type": "code",
   "execution_count": 14,
   "id": "451e8a6c",
   "metadata": {},
   "outputs": [],
   "source": [
    "x_val = df5.loc[:, features]"
   ]
  },
  {
   "cell_type": "code",
   "execution_count": 22,
   "id": "96e0a98f",
   "metadata": {},
   "outputs": [],
   "source": [
    "y_val = df6['0'].values"
   ]
  },
  {
   "cell_type": "markdown",
   "id": "7b75ff96",
   "metadata": {},
   "source": [
    "# 2.0 - Training"
   ]
  },
  {
   "cell_type": "markdown",
   "id": "4d50e86f",
   "metadata": {},
   "source": [
    "## 2.1 - Fine Tuning"
   ]
  },
  {
   "cell_type": "code",
   "execution_count": 62,
   "id": "e8f568ae",
   "metadata": {},
   "outputs": [
    {
     "name": "stderr",
     "output_type": "stream",
     "text": [
      "/home/aderaldo/anaconda3/lib/python3.9/site-packages/sklearn/linear_model/_sag.py:352: ConvergenceWarning: The max_iter was reached which means the coef_ did not converge\n",
      "  warnings.warn(\n",
      "/home/aderaldo/anaconda3/lib/python3.9/site-packages/sklearn/linear_model/_sag.py:352: ConvergenceWarning: The max_iter was reached which means the coef_ did not converge\n",
      "  warnings.warn(\n",
      "/home/aderaldo/anaconda3/lib/python3.9/site-packages/sklearn/linear_model/_sag.py:352: ConvergenceWarning: The max_iter was reached which means the coef_ did not converge\n",
      "  warnings.warn(\n",
      "/home/aderaldo/anaconda3/lib/python3.9/site-packages/sklearn/linear_model/_sag.py:352: ConvergenceWarning: The max_iter was reached which means the coef_ did not converge\n",
      "  warnings.warn(\n",
      "/home/aderaldo/anaconda3/lib/python3.9/site-packages/sklearn/linear_model/_sag.py:352: ConvergenceWarning: The max_iter was reached which means the coef_ did not converge\n",
      "  warnings.warn(\n",
      "/home/aderaldo/anaconda3/lib/python3.9/site-packages/sklearn/linear_model/_sag.py:352: ConvergenceWarning: The max_iter was reached which means the coef_ did not converge\n",
      "  warnings.warn(\n",
      "/home/aderaldo/anaconda3/lib/python3.9/site-packages/sklearn/linear_model/_sag.py:352: ConvergenceWarning: The max_iter was reached which means the coef_ did not converge\n",
      "  warnings.warn(\n",
      "/home/aderaldo/anaconda3/lib/python3.9/site-packages/sklearn/linear_model/_sag.py:352: ConvergenceWarning: The max_iter was reached which means the coef_ did not converge\n",
      "  warnings.warn(\n",
      "/home/aderaldo/anaconda3/lib/python3.9/site-packages/sklearn/linear_model/_sag.py:352: ConvergenceWarning: The max_iter was reached which means the coef_ did not converge\n",
      "  warnings.warn(\n",
      "/home/aderaldo/anaconda3/lib/python3.9/site-packages/sklearn/linear_model/_sag.py:352: ConvergenceWarning: The max_iter was reached which means the coef_ did not converge\n",
      "  warnings.warn(\n",
      "/home/aderaldo/anaconda3/lib/python3.9/site-packages/sklearn/linear_model/_sag.py:352: ConvergenceWarning: The max_iter was reached which means the coef_ did not converge\n",
      "  warnings.warn(\n",
      "/home/aderaldo/anaconda3/lib/python3.9/site-packages/sklearn/linear_model/_sag.py:352: ConvergenceWarning: The max_iter was reached which means the coef_ did not converge\n",
      "  warnings.warn(\n",
      "/home/aderaldo/anaconda3/lib/python3.9/site-packages/sklearn/linear_model/_sag.py:352: ConvergenceWarning: The max_iter was reached which means the coef_ did not converge\n",
      "  warnings.warn(\n",
      "/home/aderaldo/anaconda3/lib/python3.9/site-packages/sklearn/linear_model/_sag.py:352: ConvergenceWarning: The max_iter was reached which means the coef_ did not converge\n",
      "  warnings.warn(\n"
     ]
    }
   ],
   "source": [
    "n_iter = np.arange(2, 30, 2)\n",
    "n_accuracy = []\n",
    "for i in n_iter:\n",
    "    model = lm.LogisticRegression( max_iter = i, solver = 'sag' )\n",
    "    model.fit( x_train, y_train )\n",
    "    y_pred_test = model.predict( x_val )\n",
    "    accuracy = mt.accuracy_score( y_val, y_pred_test )\n",
    "    n_accuracy.append( accuracy )"
   ]
  },
  {
   "cell_type": "code",
   "execution_count": 63,
   "id": "836f76e8",
   "metadata": {},
   "outputs": [],
   "source": [
    "results = {\"n_iter\": n_iter, \"n_accuracy\": n_accuracy}\n",
    "results_df = pd.DataFrame( results )\n",
    "# 0.874417"
   ]
  },
  {
   "cell_type": "code",
   "execution_count": 64,
   "id": "e118aa93",
   "metadata": {},
   "outputs": [
    {
     "data": {
      "text/html": [
       "<div>\n",
       "<style scoped>\n",
       "    .dataframe tbody tr th:only-of-type {\n",
       "        vertical-align: middle;\n",
       "    }\n",
       "\n",
       "    .dataframe tbody tr th {\n",
       "        vertical-align: top;\n",
       "    }\n",
       "\n",
       "    .dataframe thead th {\n",
       "        text-align: right;\n",
       "    }\n",
       "</style>\n",
       "<table border=\"1\" class=\"dataframe\">\n",
       "  <thead>\n",
       "    <tr style=\"text-align: right;\">\n",
       "      <th></th>\n",
       "      <th>n_iter</th>\n",
       "      <th>n_accuracy</th>\n",
       "    </tr>\n",
       "  </thead>\n",
       "  <tbody>\n",
       "    <tr>\n",
       "      <th>3</th>\n",
       "      <td>8</td>\n",
       "      <td>0.875543</td>\n",
       "    </tr>\n",
       "    <tr>\n",
       "      <th>5</th>\n",
       "      <td>12</td>\n",
       "      <td>0.874546</td>\n",
       "    </tr>\n",
       "    <tr>\n",
       "      <th>4</th>\n",
       "      <td>10</td>\n",
       "      <td>0.874095</td>\n",
       "    </tr>\n",
       "    <tr>\n",
       "      <th>7</th>\n",
       "      <td>16</td>\n",
       "      <td>0.873966</td>\n",
       "    </tr>\n",
       "    <tr>\n",
       "      <th>11</th>\n",
       "      <td>24</td>\n",
       "      <td>0.873966</td>\n",
       "    </tr>\n",
       "    <tr>\n",
       "      <th>6</th>\n",
       "      <td>14</td>\n",
       "      <td>0.873902</td>\n",
       "    </tr>\n",
       "    <tr>\n",
       "      <th>8</th>\n",
       "      <td>18</td>\n",
       "      <td>0.873902</td>\n",
       "    </tr>\n",
       "    <tr>\n",
       "      <th>12</th>\n",
       "      <td>26</td>\n",
       "      <td>0.873902</td>\n",
       "    </tr>\n",
       "    <tr>\n",
       "      <th>2</th>\n",
       "      <td>6</td>\n",
       "      <td>0.873870</td>\n",
       "    </tr>\n",
       "    <tr>\n",
       "      <th>10</th>\n",
       "      <td>22</td>\n",
       "      <td>0.873870</td>\n",
       "    </tr>\n",
       "    <tr>\n",
       "      <th>13</th>\n",
       "      <td>28</td>\n",
       "      <td>0.873870</td>\n",
       "    </tr>\n",
       "    <tr>\n",
       "      <th>9</th>\n",
       "      <td>20</td>\n",
       "      <td>0.873838</td>\n",
       "    </tr>\n",
       "    <tr>\n",
       "      <th>0</th>\n",
       "      <td>2</td>\n",
       "      <td>0.869333</td>\n",
       "    </tr>\n",
       "    <tr>\n",
       "      <th>1</th>\n",
       "      <td>4</td>\n",
       "      <td>0.855465</td>\n",
       "    </tr>\n",
       "  </tbody>\n",
       "</table>\n",
       "</div>"
      ],
      "text/plain": [
       "    n_iter  n_accuracy\n",
       "3        8    0.875543\n",
       "5       12    0.874546\n",
       "4       10    0.874095\n",
       "7       16    0.873966\n",
       "11      24    0.873966\n",
       "6       14    0.873902\n",
       "8       18    0.873902\n",
       "12      26    0.873902\n",
       "2        6    0.873870\n",
       "10      22    0.873870\n",
       "13      28    0.873870\n",
       "9       20    0.873838\n",
       "0        2    0.869333\n",
       "1        4    0.855465"
      ]
     },
     "execution_count": 64,
     "metadata": {},
     "output_type": "execute_result"
    }
   ],
   "source": [
    "results_df.sort_values(by = \"n_accuracy\", ascending = False)"
   ]
  },
  {
   "cell_type": "markdown",
   "id": "a6bb6218",
   "metadata": {},
   "source": [
    "# 2.2 - Houldout Validation"
   ]
  },
  {
   "cell_type": "code",
   "execution_count": 67,
   "id": "68c7993a",
   "metadata": {},
   "outputs": [
    {
     "name": "stderr",
     "output_type": "stream",
     "text": [
      "/home/aderaldo/anaconda3/lib/python3.9/site-packages/sklearn/linear_model/_sag.py:352: ConvergenceWarning: The max_iter was reached which means the coef_ did not converge\n",
      "  warnings.warn(\n",
      "/home/aderaldo/anaconda3/lib/python3.9/site-packages/sklearn/base.py:443: UserWarning: X has feature names, but LogisticRegression was fitted without feature names\n",
      "  warnings.warn(\n"
     ]
    },
    {
     "data": {
      "text/plain": [
       "0.8698103734600084"
      ]
     },
     "execution_count": 67,
     "metadata": {},
     "output_type": "execute_result"
    }
   ],
   "source": [
    "# Define\n",
    "model = lm.LogisticRegression( max_iter = 8, solver = 'sag' )\n",
    "# Fit\n",
    "model.fit (np.concatenate((x_train, x_val)), np.concatenate ((y_train, y_val)))\n",
    "# Predict\n",
    "y_pred_final = model.predict( x_test )\n",
    "# Performance\n",
    "mt.accuracy_score( y_test, y_pred_final )"
   ]
  },
  {
   "cell_type": "markdown",
   "id": "51502eff",
   "metadata": {},
   "source": [
    "# 3.0 - Metrics"
   ]
  },
  {
   "cell_type": "code",
   "execution_count": 68,
   "id": "6c6b17d3",
   "metadata": {},
   "outputs": [
    {
     "data": {
      "text/plain": [
       "0.8591194968553459"
      ]
     },
     "execution_count": 68,
     "metadata": {},
     "output_type": "execute_result"
    }
   ],
   "source": [
    "mt.precision_score( y_test, y_pred_final )"
   ]
  },
  {
   "cell_type": "code",
   "execution_count": 69,
   "id": "86868638",
   "metadata": {},
   "outputs": [
    {
     "data": {
      "text/plain": [
       "0.8413550373955125"
      ]
     },
     "execution_count": 69,
     "metadata": {},
     "output_type": "execute_result"
    }
   ],
   "source": [
    "mt.recall_score( y_test, y_pred_final )"
   ]
  },
  {
   "cell_type": "code",
   "execution_count": 70,
   "id": "099fff2a",
   "metadata": {},
   "outputs": [
    {
     "data": {
      "text/plain": [
       "0.8501444765503445"
      ]
     },
     "execution_count": 70,
     "metadata": {},
     "output_type": "execute_result"
    }
   ],
   "source": [
    "mt.f1_score( y_test, y_pred_final )"
   ]
  }
 ],
 "metadata": {
  "kernelspec": {
   "display_name": "Python 3 (ipykernel)",
   "language": "python",
   "name": "python3"
  },
  "language_info": {
   "codemirror_mode": {
    "name": "ipython",
    "version": 3
   },
   "file_extension": ".py",
   "mimetype": "text/x-python",
   "name": "python",
   "nbconvert_exporter": "python",
   "pygments_lexer": "ipython3",
   "version": "3.9.12"
  }
 },
 "nbformat": 4,
 "nbformat_minor": 5
}
