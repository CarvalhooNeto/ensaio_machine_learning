{
 "cells": [
  {
   "cell_type": "markdown",
   "id": "5f153752",
   "metadata": {},
   "source": [
    "# 0.0 - Imports"
   ]
  },
  {
   "cell_type": "code",
   "execution_count": 1,
   "id": "8731d9ae",
   "metadata": {},
   "outputs": [
    {
     "name": "stderr",
     "output_type": "stream",
     "text": [
      "/home/aderaldo/anaconda3/lib/python3.9/site-packages/scipy/__init__.py:146: UserWarning: A NumPy version >=1.16.5 and <1.23.0 is required for this version of SciPy (detected version 1.23.0\n",
      "  warnings.warn(f\"A NumPy version >={np_minversion} and <{np_maxversion}\"\n"
     ]
    }
   ],
   "source": [
    "import pandas as pd\n",
    "import numpy as np\n",
    "from sklearn import preprocessing as pp\n",
    "from sklearn import linear_model as lm\n",
    "from sklearn import metrics as mt"
   ]
  },
  {
   "cell_type": "markdown",
   "id": "11b34566",
   "metadata": {},
   "source": [
    "# 1.0 - Load Dataset"
   ]
  },
  {
   "cell_type": "markdown",
   "id": "67bacf58",
   "metadata": {},
   "source": [
    "## 1.1 - Load Training Dataset"
   ]
  },
  {
   "cell_type": "code",
   "execution_count": 2,
   "id": "75d5b24d",
   "metadata": {},
   "outputs": [],
   "source": [
    "x_train = pd.read_csv('/home/aderaldo/estudos/comunidade_ds/fundamentos_de_machine_learning/projeto/Datasets/regressão/X_training.csv')"
   ]
  },
  {
   "cell_type": "code",
   "execution_count": 3,
   "id": "cbad932d",
   "metadata": {},
   "outputs": [],
   "source": [
    "y_train = pd.read_csv('/home/aderaldo/estudos/comunidade_ds/fundamentos_de_machine_learning/projeto/Datasets/regressão/y_training.csv')"
   ]
  },
  {
   "cell_type": "markdown",
   "id": "5990e35f",
   "metadata": {},
   "source": [
    "## 1.2 - Load Test Dataset"
   ]
  },
  {
   "cell_type": "code",
   "execution_count": 4,
   "id": "8e6636e2",
   "metadata": {},
   "outputs": [],
   "source": [
    "x_test = pd.read_csv('/home/aderaldo/estudos/comunidade_ds/fundamentos_de_machine_learning/projeto/Datasets/regressão/X_test.csv')"
   ]
  },
  {
   "cell_type": "code",
   "execution_count": 5,
   "id": "ba6b9f26",
   "metadata": {},
   "outputs": [],
   "source": [
    "y_test = pd.read_csv('/home/aderaldo/estudos/comunidade_ds/fundamentos_de_machine_learning/projeto/Datasets/regressão/y_test.csv')"
   ]
  },
  {
   "cell_type": "markdown",
   "id": "c41d3b22",
   "metadata": {},
   "source": [
    "## 1.3 - Load Validation Dataset"
   ]
  },
  {
   "cell_type": "code",
   "execution_count": 6,
   "id": "f808b73c",
   "metadata": {},
   "outputs": [],
   "source": [
    "x_val = pd.read_csv('/home/aderaldo/estudos/comunidade_ds/fundamentos_de_machine_learning/projeto/Datasets/regressão/X_validation.csv')"
   ]
  },
  {
   "cell_type": "code",
   "execution_count": 7,
   "id": "531ca052",
   "metadata": {},
   "outputs": [],
   "source": [
    "y_val = pd.read_csv('/home/aderaldo/estudos/comunidade_ds/fundamentos_de_machine_learning/projeto/Datasets/regressão/y_val.csv')"
   ]
  },
  {
   "cell_type": "code",
   "execution_count": 10,
   "id": "3cf0423e",
   "metadata": {},
   "outputs": [
    {
     "data": {
      "text/plain": [
       "(10547, 13)"
      ]
     },
     "execution_count": 10,
     "metadata": {},
     "output_type": "execute_result"
    }
   ],
   "source": [
    "x_train.shape"
   ]
  },
  {
   "cell_type": "markdown",
   "id": "3f8955e1",
   "metadata": {},
   "source": [
    "# 2.0 Training Model"
   ]
  },
  {
   "cell_type": "code",
   "execution_count": null,
   "id": "e80c2f9c",
   "metadata": {},
   "outputs": [],
   "source": []
  },
  {
   "cell_type": "markdown",
   "id": "247bf9d3",
   "metadata": {},
   "source": [
    "## 2.1 - Training Over Training Dataset"
   ]
  },
  {
   "cell_type": "code",
   "execution_count": 8,
   "id": "931ae605",
   "metadata": {},
   "outputs": [],
   "source": [
    "poly = pp.PolynomialFeatures( degree = 2 )\n",
    "X_poly = poly.fit_transform( x_train )\n",
    "model = lm.Ridge()\n",
    "model.fit(X_poly, y_train )\n",
    "y_hat = model.predict( X_poly )\n",
    "\n"
   ]
  },
  {
   "cell_type": "code",
   "execution_count": null,
   "id": "6307108d",
   "metadata": {},
   "outputs": [],
   "source": [
    "alpha_values = np.arange(2, 40, 2)\n",
    "r2_values = []\n",
    "\n",
    "for i in alpha_values:\n",
    "    model = lm.ElasticNet( alpha = i )\n",
    "    model.fit( X_poly, y_train )\n",
    "    y_pred_final = model.predict( x_val )\n",
    "    r2 = mt.r2_score( y_val, y_pred_final )\n",
    "    r2_values.append( r2 )"
   ]
  },
  {
   "cell_type": "markdown",
   "id": "cad663f4",
   "metadata": {},
   "source": [
    "### Metrics"
   ]
  },
  {
   "cell_type": "code",
   "execution_count": 9,
   "id": "ad8651dd",
   "metadata": {
    "scrolled": true
   },
   "outputs": [
    {
     "data": {
      "text/plain": [
       "0.09317140761274356"
      ]
     },
     "execution_count": 9,
     "metadata": {},
     "output_type": "execute_result"
    }
   ],
   "source": [
    "# r2\n",
    "mt.r2_score( y_train, y_hat )"
   ]
  },
  {
   "cell_type": "code",
   "execution_count": 10,
   "id": "ce970722",
   "metadata": {},
   "outputs": [
    {
     "data": {
      "text/plain": [
       "433.47545690992735"
      ]
     },
     "execution_count": 10,
     "metadata": {},
     "output_type": "execute_result"
    }
   ],
   "source": [
    "#MSE\n",
    "mt.mean_squared_error( y_train, y_hat )"
   ]
  },
  {
   "cell_type": "code",
   "execution_count": 11,
   "id": "a260944f",
   "metadata": {},
   "outputs": [
    {
     "data": {
      "text/plain": [
       "20.820073412693034"
      ]
     },
     "execution_count": 11,
     "metadata": {},
     "output_type": "execute_result"
    }
   ],
   "source": [
    "#RMSE\n",
    "mt.mean_squared_error(  y_train, y_hat, squared = False )"
   ]
  },
  {
   "cell_type": "code",
   "execution_count": 12,
   "id": "9067a7ce",
   "metadata": {},
   "outputs": [
    {
     "data": {
      "text/plain": [
       "8.372689165744582"
      ]
     },
     "execution_count": 12,
     "metadata": {},
     "output_type": "execute_result"
    }
   ],
   "source": [
    "#MAE\n",
    "mt.mean_absolute_percentage_error( y_train, y_hat )"
   ]
  },
  {
   "cell_type": "code",
   "execution_count": 13,
   "id": "ed84eff9",
   "metadata": {},
   "outputs": [
    {
     "data": {
      "text/plain": [
       "16.471971837686485"
      ]
     },
     "execution_count": 13,
     "metadata": {},
     "output_type": "execute_result"
    }
   ],
   "source": [
    "#MAPE\n",
    "mt.mean_absolute_error( y_train, y_hat )"
   ]
  },
  {
   "cell_type": "markdown",
   "id": "8d993fa0",
   "metadata": {},
   "source": [
    "## 2.2 - Training Over Test Dataset"
   ]
  },
  {
   "cell_type": "code",
   "execution_count": 14,
   "id": "4b82896f",
   "metadata": {},
   "outputs": [],
   "source": [
    "X_poly_test = poly.fit_transform( x_test ) \n",
    "y_hat_test = model.predict( X_poly_test )"
   ]
  },
  {
   "cell_type": "markdown",
   "id": "5e38654e",
   "metadata": {},
   "source": [
    "### Metrics"
   ]
  },
  {
   "cell_type": "code",
   "execution_count": null,
   "id": "32d341c6",
   "metadata": {},
   "outputs": [],
   "source": [
    "# r2\n",
    "mt.r2_score( y_test, y_hat_test)"
   ]
  },
  {
   "cell_type": "code",
   "execution_count": 28,
   "id": "3c1fd815",
   "metadata": {},
   "outputs": [
    {
     "data": {
      "text/plain": [
       "443.04125572754356"
      ]
     },
     "execution_count": 28,
     "metadata": {},
     "output_type": "execute_result"
    }
   ],
   "source": [
    "#MSE\n",
    "mt.mean_squared_error(y_test, y_hat_test )"
   ]
  },
  {
   "cell_type": "code",
   "execution_count": 29,
   "id": "aa708199",
   "metadata": {},
   "outputs": [
    {
     "data": {
      "text/plain": [
       "21.048545216416823"
      ]
     },
     "execution_count": 29,
     "metadata": {},
     "output_type": "execute_result"
    }
   ],
   "source": [
    "#RMSE\n",
    "mt.mean_squared_error( y_test, y_hat_test, squared = False )"
   ]
  },
  {
   "cell_type": "code",
   "execution_count": 30,
   "id": "b0e45352",
   "metadata": {},
   "outputs": [
    {
     "data": {
      "text/plain": [
       "8.242463577057901"
      ]
     },
     "execution_count": 30,
     "metadata": {},
     "output_type": "execute_result"
    }
   ],
   "source": [
    "#MAE\n",
    "mt.mean_absolute_percentage_error( y_test, y_hat_test)"
   ]
  },
  {
   "cell_type": "code",
   "execution_count": 31,
   "id": "287213c9",
   "metadata": {},
   "outputs": [
    {
     "data": {
      "text/plain": [
       "16.720535025987544"
      ]
     },
     "execution_count": 31,
     "metadata": {},
     "output_type": "execute_result"
    }
   ],
   "source": [
    "#MAPE\n",
    "mt.mean_absolute_error( y_test, y_hat_test)"
   ]
  },
  {
   "cell_type": "markdown",
   "id": "c5cfd472",
   "metadata": {},
   "source": [
    "## 2.3 Training Over Validation Dataset"
   ]
  },
  {
   "cell_type": "code",
   "execution_count": 32,
   "id": "5f65c2af",
   "metadata": {},
   "outputs": [],
   "source": [
    "X_poly_val = poly.fit_transform( x_val ) \n",
    "y_hat_test = model.predict( X_poly_val )"
   ]
  },
  {
   "cell_type": "code",
   "execution_count": 33,
   "id": "7c475fba",
   "metadata": {},
   "outputs": [
    {
     "data": {
      "text/plain": [
       "0.06647668389711592"
      ]
     },
     "execution_count": 33,
     "metadata": {},
     "output_type": "execute_result"
    }
   ],
   "source": [
    "# r2\n",
    "mt.r2_score( y_val, y_hat_test)"
   ]
  },
  {
   "cell_type": "code",
   "execution_count": 34,
   "id": "66e5d53a",
   "metadata": {},
   "outputs": [
    {
     "data": {
      "text/plain": [
       "445.76822347127575"
      ]
     },
     "execution_count": 34,
     "metadata": {},
     "output_type": "execute_result"
    }
   ],
   "source": [
    "#MSE\n",
    "mt.mean_squared_error( y_val, y_hat_test)"
   ]
  },
  {
   "cell_type": "code",
   "execution_count": 35,
   "id": "70714c84",
   "metadata": {},
   "outputs": [
    {
     "data": {
      "text/plain": [
       "21.113223900467588"
      ]
     },
     "execution_count": 35,
     "metadata": {},
     "output_type": "execute_result"
    }
   ],
   "source": [
    "#RMSE\n",
    "mt.mean_squared_error( y_val, y_hat_test, squared = False )"
   ]
  },
  {
   "cell_type": "code",
   "execution_count": 36,
   "id": "8f19b1fb",
   "metadata": {},
   "outputs": [
    {
     "data": {
      "text/plain": [
       "8.547931034605396"
      ]
     },
     "execution_count": 36,
     "metadata": {},
     "output_type": "execute_result"
    }
   ],
   "source": [
    "#MAE\n",
    "mt.mean_absolute_percentage_error( y_val, y_hat_test)"
   ]
  },
  {
   "cell_type": "code",
   "execution_count": 37,
   "id": "63974da4",
   "metadata": {},
   "outputs": [
    {
     "data": {
      "text/plain": [
       "16.749939090484027"
      ]
     },
     "execution_count": 37,
     "metadata": {},
     "output_type": "execute_result"
    }
   ],
   "source": [
    "#MAPE\n",
    "mt.mean_absolute_error( y_val, y_hat_test )"
   ]
  }
 ],
 "metadata": {
  "kernelspec": {
   "display_name": "Python 3 (ipykernel)",
   "language": "python",
   "name": "python3"
  },
  "language_info": {
   "codemirror_mode": {
    "name": "ipython",
    "version": 3
   },
   "file_extension": ".py",
   "mimetype": "text/x-python",
   "name": "python",
   "nbconvert_exporter": "python",
   "pygments_lexer": "ipython3",
   "version": "3.9.12"
  }
 },
 "nbformat": 4,
 "nbformat_minor": 5
}
