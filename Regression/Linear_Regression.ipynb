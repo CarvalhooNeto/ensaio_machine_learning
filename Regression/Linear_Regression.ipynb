{
 "cells": [
  {
   "cell_type": "markdown",
   "id": "5f153752",
   "metadata": {},
   "source": [
    "# 0.0 - Imports"
   ]
  },
  {
   "cell_type": "code",
   "execution_count": 9,
   "id": "8731d9ae",
   "metadata": {},
   "outputs": [
    {
     "name": "stderr",
     "output_type": "stream",
     "text": [
      "/home/aderaldo/anaconda3/lib/python3.9/site-packages/scipy/__init__.py:146: UserWarning: A NumPy version >=1.16.5 and <1.23.0 is required for this version of SciPy (detected version 1.23.0\n",
      "  warnings.warn(f\"A NumPy version >={np_minversion} and <{np_maxversion}\"\n"
     ]
    }
   ],
   "source": [
    "import pandas as pd\n",
    "import numpy as np\n",
    "from sklearn.linear_model import LinearRegression\n",
    "from sklearn import metrics as mt"
   ]
  },
  {
   "cell_type": "markdown",
   "id": "11b34566",
   "metadata": {},
   "source": [
    "# 1.0 - Load Dataset"
   ]
  },
  {
   "cell_type": "markdown",
   "id": "67bacf58",
   "metadata": {},
   "source": [
    "## 1.1 - Load Training Dataset"
   ]
  },
  {
   "cell_type": "code",
   "execution_count": 3,
   "id": "75d5b24d",
   "metadata": {},
   "outputs": [],
   "source": [
    "x_train = pd.read_csv('/home/aderaldo/estudos/comunidade_ds/fundamentos_de_machine_learning/projeto/Datasets/regressão/X_training.csv')"
   ]
  },
  {
   "cell_type": "code",
   "execution_count": 4,
   "id": "cbad932d",
   "metadata": {},
   "outputs": [],
   "source": [
    "y_train = pd.read_csv('/home/aderaldo/estudos/comunidade_ds/fundamentos_de_machine_learning/projeto/Datasets/regressão/y_training.csv')"
   ]
  },
  {
   "cell_type": "markdown",
   "id": "5990e35f",
   "metadata": {},
   "source": [
    "## 1.2 - Load Test Dataset"
   ]
  },
  {
   "cell_type": "code",
   "execution_count": 5,
   "id": "8e6636e2",
   "metadata": {},
   "outputs": [],
   "source": [
    "x_test = pd.read_csv('/home/aderaldo/estudos/comunidade_ds/fundamentos_de_machine_learning/projeto/Datasets/regressão/X_test.csv')"
   ]
  },
  {
   "cell_type": "code",
   "execution_count": 6,
   "id": "ba6b9f26",
   "metadata": {},
   "outputs": [],
   "source": [
    "y_test = pd.read_csv('/home/aderaldo/estudos/comunidade_ds/fundamentos_de_machine_learning/projeto/Datasets/regressão/y_test.csv')"
   ]
  },
  {
   "cell_type": "markdown",
   "id": "c41d3b22",
   "metadata": {},
   "source": [
    "## 1.3 - Load Validation Dataset"
   ]
  },
  {
   "cell_type": "code",
   "execution_count": 7,
   "id": "f808b73c",
   "metadata": {},
   "outputs": [],
   "source": [
    "x_val = pd.read_csv('/home/aderaldo/estudos/comunidade_ds/fundamentos_de_machine_learning/projeto/Datasets/regressão/X_validation.csv')"
   ]
  },
  {
   "cell_type": "code",
   "execution_count": 8,
   "id": "531ca052",
   "metadata": {},
   "outputs": [],
   "source": [
    "y_val = pd.read_csv('/home/aderaldo/estudos/comunidade_ds/fundamentos_de_machine_learning/projeto/Datasets/regressão/y_val.csv')"
   ]
  },
  {
   "cell_type": "markdown",
   "id": "3f8955e1",
   "metadata": {},
   "source": [
    "# 2.0 Training Model"
   ]
  },
  {
   "cell_type": "markdown",
   "id": "247bf9d3",
   "metadata": {},
   "source": [
    "## 2.1 - Training Over Training Dataset"
   ]
  },
  {
   "cell_type": "code",
   "execution_count": 15,
   "id": "931ae605",
   "metadata": {},
   "outputs": [
    {
     "data": {
      "text/plain": [
       "0.04605830473391903"
      ]
     },
     "execution_count": 15,
     "metadata": {},
     "output_type": "execute_result"
    }
   ],
   "source": [
    "model = LinearRegression()\n",
    "\n",
    "model.fit( x_train, y_train )\n",
    "\n",
    "y_pred_train = model.predict( x_train )\n",
    "\n",
    "mt.r2_score( y_train, y_pred_train)"
   ]
  },
  {
   "cell_type": "markdown",
   "id": "cad663f4",
   "metadata": {},
   "source": [
    "### Metrics"
   ]
  },
  {
   "cell_type": "code",
   "execution_count": 16,
   "id": "ad8651dd",
   "metadata": {},
   "outputs": [
    {
     "data": {
      "text/plain": [
       "0.04605830473391903"
      ]
     },
     "execution_count": 16,
     "metadata": {},
     "output_type": "execute_result"
    }
   ],
   "source": [
    "# r2\n",
    "mt.r2_score( y_train, y_pred_train)"
   ]
  },
  {
   "cell_type": "code",
   "execution_count": 17,
   "id": "ce970722",
   "metadata": {},
   "outputs": [
    {
     "data": {
      "text/plain": [
       "455.99611182562677"
      ]
     },
     "execution_count": 17,
     "metadata": {},
     "output_type": "execute_result"
    }
   ],
   "source": [
    "#MSE\n",
    "mt.mean_squared_error( y_train, y_pred_train )"
   ]
  },
  {
   "cell_type": "code",
   "execution_count": 18,
   "id": "a260944f",
   "metadata": {},
   "outputs": [
    {
     "data": {
      "text/plain": [
       "21.35406546364478"
      ]
     },
     "execution_count": 18,
     "metadata": {},
     "output_type": "execute_result"
    }
   ],
   "source": [
    "#RMSE\n",
    "mt.mean_squared_error(  y_train, y_pred_train, squared = False )"
   ]
  },
  {
   "cell_type": "code",
   "execution_count": 19,
   "id": "9067a7ce",
   "metadata": {},
   "outputs": [
    {
     "data": {
      "text/plain": [
       "8.653185943804512"
      ]
     },
     "execution_count": 19,
     "metadata": {},
     "output_type": "execute_result"
    }
   ],
   "source": [
    "#MAE\n",
    "mt.mean_absolute_percentage_error( y_train, y_pred_train )"
   ]
  },
  {
   "cell_type": "code",
   "execution_count": 20,
   "id": "ed84eff9",
   "metadata": {},
   "outputs": [
    {
     "data": {
      "text/plain": [
       "16.998249066011095"
      ]
     },
     "execution_count": 20,
     "metadata": {},
     "output_type": "execute_result"
    }
   ],
   "source": [
    "#MAPE\n",
    "mt.mean_absolute_error( y_train, y_pred_train )"
   ]
  },
  {
   "cell_type": "markdown",
   "id": "8d993fa0",
   "metadata": {},
   "source": [
    "## 2.2 - Training Over Test Dataset"
   ]
  },
  {
   "cell_type": "code",
   "execution_count": 21,
   "id": "4b82896f",
   "metadata": {},
   "outputs": [],
   "source": [
    "y_pred_test = model.predict( x_test )"
   ]
  },
  {
   "cell_type": "markdown",
   "id": "5e38654e",
   "metadata": {},
   "source": [
    "### Metrics"
   ]
  },
  {
   "cell_type": "code",
   "execution_count": 23,
   "id": "32d341c6",
   "metadata": {},
   "outputs": [
    {
     "data": {
      "text/plain": [
       "0.052317119521687494"
      ]
     },
     "execution_count": 23,
     "metadata": {},
     "output_type": "execute_result"
    }
   ],
   "source": [
    "# r2\n",
    "mt.r2_score( y_test, y_pred_test)"
   ]
  },
  {
   "cell_type": "code",
   "execution_count": 24,
   "id": "3c1fd815",
   "metadata": {},
   "outputs": [
    {
     "data": {
      "text/plain": [
       "461.42771933638954"
      ]
     },
     "execution_count": 24,
     "metadata": {},
     "output_type": "execute_result"
    }
   ],
   "source": [
    "#MSE\n",
    "mt.mean_squared_error(y_test, y_pred_test )"
   ]
  },
  {
   "cell_type": "code",
   "execution_count": 26,
   "id": "aa708199",
   "metadata": {},
   "outputs": [
    {
     "data": {
      "text/plain": [
       "21.480868682071254"
      ]
     },
     "execution_count": 26,
     "metadata": {},
     "output_type": "execute_result"
    }
   ],
   "source": [
    "#RMSE\n",
    "mt.mean_squared_error( y_test, y_pred_test, squared = False )"
   ]
  },
  {
   "cell_type": "code",
   "execution_count": 27,
   "id": "b0e45352",
   "metadata": {},
   "outputs": [
    {
     "data": {
      "text/plain": [
       "8.521859277849837"
      ]
     },
     "execution_count": 27,
     "metadata": {},
     "output_type": "execute_result"
    }
   ],
   "source": [
    "#MAE\n",
    "mt.mean_absolute_percentage_error( y_test, y_pred_test)"
   ]
  },
  {
   "cell_type": "code",
   "execution_count": 28,
   "id": "287213c9",
   "metadata": {},
   "outputs": [
    {
     "data": {
      "text/plain": [
       "17.12996509166612"
      ]
     },
     "execution_count": 28,
     "metadata": {},
     "output_type": "execute_result"
    }
   ],
   "source": [
    "#MAPE\n",
    "mt.mean_absolute_error( y_test, y_pred_test)"
   ]
  },
  {
   "cell_type": "markdown",
   "id": "c5cfd472",
   "metadata": {},
   "source": [
    "## 2.3 Training Over Validation Dataset"
   ]
  },
  {
   "cell_type": "code",
   "execution_count": 29,
   "id": "b95d5748",
   "metadata": {},
   "outputs": [],
   "source": [
    "y_pred_val = model.predict( x_val )"
   ]
  },
  {
   "cell_type": "code",
   "execution_count": 30,
   "id": "7c475fba",
   "metadata": {},
   "outputs": [
    {
     "data": {
      "text/plain": [
       "0.03992483038154071"
      ]
     },
     "execution_count": 30,
     "metadata": {},
     "output_type": "execute_result"
    }
   ],
   "source": [
    "# r2\n",
    "mt.r2_score( y_val, y_pred_val)"
   ]
  },
  {
   "cell_type": "code",
   "execution_count": 31,
   "id": "66e5d53a",
   "metadata": {},
   "outputs": [
    {
     "data": {
      "text/plain": [
       "458.4470418439312"
      ]
     },
     "execution_count": 31,
     "metadata": {},
     "output_type": "execute_result"
    }
   ],
   "source": [
    "#MSE\n",
    "mt.mean_squared_error( y_val, y_pred_val)"
   ]
  },
  {
   "cell_type": "code",
   "execution_count": 32,
   "id": "70714c84",
   "metadata": {},
   "outputs": [
    {
     "data": {
      "text/plain": [
       "21.41137645841414"
      ]
     },
     "execution_count": 32,
     "metadata": {},
     "output_type": "execute_result"
    }
   ],
   "source": [
    "#RMSE\n",
    "mt.mean_squared_error( y_val, y_pred_val, squared = False )"
   ]
  },
  {
   "cell_type": "code",
   "execution_count": 33,
   "id": "8f19b1fb",
   "metadata": {},
   "outputs": [
    {
     "data": {
      "text/plain": [
       "8.682541883735295"
      ]
     },
     "execution_count": 33,
     "metadata": {},
     "output_type": "execute_result"
    }
   ],
   "source": [
    "#MAE\n",
    "mt.mean_absolute_percentage_error( y_val, y_pred_val)"
   ]
  },
  {
   "cell_type": "code",
   "execution_count": 34,
   "id": "63974da4",
   "metadata": {},
   "outputs": [
    {
     "data": {
      "text/plain": [
       "17.039753759960327"
      ]
     },
     "execution_count": 34,
     "metadata": {},
     "output_type": "execute_result"
    }
   ],
   "source": [
    "#MAPE\n",
    "mt.mean_absolute_error( y_val, y_pred_val )"
   ]
  }
 ],
 "metadata": {
  "kernelspec": {
   "display_name": "Python 3 (ipykernel)",
   "language": "python",
   "name": "python3"
  },
  "language_info": {
   "codemirror_mode": {
    "name": "ipython",
    "version": 3
   },
   "file_extension": ".py",
   "mimetype": "text/x-python",
   "name": "python",
   "nbconvert_exporter": "python",
   "pygments_lexer": "ipython3",
   "version": "3.9.12"
  }
 },
 "nbformat": 4,
 "nbformat_minor": 5
}
