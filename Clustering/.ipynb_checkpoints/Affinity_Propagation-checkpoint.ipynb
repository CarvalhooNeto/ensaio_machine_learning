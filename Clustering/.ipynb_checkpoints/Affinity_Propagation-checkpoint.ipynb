{
 "cells": [
  {
   "cell_type": "markdown",
   "id": "c1e4f626",
   "metadata": {},
   "source": [
    "# 0.0 - Imports"
   ]
  },
  {
   "cell_type": "code",
   "execution_count": 1,
   "id": "6adfc76e",
   "metadata": {},
   "outputs": [
    {
     "name": "stderr",
     "output_type": "stream",
     "text": [
      "/home/aderaldo/anaconda3/lib/python3.9/site-packages/scipy/__init__.py:146: UserWarning: A NumPy version >=1.16.5 and <1.23.0 is required for this version of SciPy (detected version 1.23.0\n",
      "  warnings.warn(f\"A NumPy version >={np_minversion} and <{np_maxversion}\"\n"
     ]
    }
   ],
   "source": [
    "import pandas as pd\n",
    "import numpy as np\n",
    "import time\n",
    "\n",
    "from IPython import display\n",
    "from sklearn import cluster as c\n",
    "from sklearn import datasets as dt\n",
    "from matplotlib import pyplot as plt\n",
    "from sklearn.metrics import silhouette_score"
   ]
  },
  {
   "cell_type": "markdown",
   "id": "98b1b721",
   "metadata": {},
   "source": [
    "# 1.0 - Load Dataset"
   ]
  },
  {
   "cell_type": "code",
   "execution_count": 2,
   "id": "c9482345",
   "metadata": {},
   "outputs": [],
   "source": [
    "X = pd.read_csv(\"/home/aderaldo/estudos/comunidade_ds/fundamentos_de_machine_learning/projeto/Datasets/clusterização/X_dataset.csv\")"
   ]
  },
  {
   "cell_type": "code",
   "execution_count": 28,
   "id": "45a56706",
   "metadata": {},
   "outputs": [
    {
     "data": {
      "text/plain": [
       "(178, 13)"
      ]
     },
     "execution_count": 28,
     "metadata": {},
     "output_type": "execute_result"
    }
   ],
   "source": [
    "X.shape"
   ]
  },
  {
   "cell_type": "markdown",
   "id": "203b982b",
   "metadata": {},
   "source": [
    "# 2.0 - Training"
   ]
  },
  {
   "cell_type": "markdown",
   "id": "f941ad84",
   "metadata": {},
   "source": [
    "## 2.1 - Fine tuning"
   ]
  },
  {
   "cell_type": "code",
   "execution_count": 3,
   "id": "d89a085d",
   "metadata": {},
   "outputs": [
    {
     "data": {
      "image/png": "[encoded data removed]",
      "text/plain": [
       "<Figure size 432x288 with 1 Axes>"
      ]
     },
     "metadata": {
      "needs_background": "light"
     },
     "output_type": "display_data"
    },
    {
     "name": "stdout",
     "output_type": "stream",
     "text": [
      "O número de preference: 59\n",
      "O número de Slhouette score é: 0.18318135469996977\n"
     ]
    },
    {
     "data": {
      "text/plain": [
       "<Figure size 432x288 with 0 Axes>"
      ]
     },
     "metadata": {},
     "output_type": "display_data"
    }
   ],
   "source": [
    "p = np.arange( -1, -61, -1)\n",
    "ss_list = []\n",
    "preference_list = []\n",
    "\n",
    "for preference in range (len (p) ):\n",
    "    # Define\n",
    "    model = c.AffinityPropagation( preference = p[preference], random_state = 5)\n",
    "    # fit\n",
    "    model.fit( X )\n",
    "    # predict\n",
    "    labels = model.predict( X )\n",
    "    ss = silhouette_score( X, labels )\n",
    "    ss_list.append( ss )\n",
    "    preference_list.append( preference )\n",
    "    plt.plot( p[:preference], ss_list[:preference])\n",
    "    plt.title('Affinity propagation')\n",
    "    plt.xlabel('Preference')\n",
    "    plt.ylabel('Silhouette score')\n",
    "    display.clear_output( wait=True )\n",
    "    plt.show()\n",
    "    plt.gcf()\n",
    "    time.sleep( 0.08 )\n",
    "    print( \"O número de preference: {}\".format(preference))\n",
    "    print(\"O número de Slhouette score é: {}\".format( ss ))"
   ]
  },
  {
   "cell_type": "code",
   "execution_count": 37,
   "id": "03db2834",
   "metadata": {},
   "outputs": [
    {
     "name": "stdout",
     "output_type": "stream",
     "text": [
      "O melhor valor de preference: 46 com 0.20365750456597356\n"
     ]
    }
   ],
   "source": [
    "best_preference = ss_list.index( max(ss_list))\n",
    "result = max( ss_list )\n",
    "print(\"O melhor valor de preference: {} com {}\" .format( best_preference, result ) )"
   ]
  }
 ],
 "metadata": {
  "kernelspec": {
   "display_name": "Python 3 (ipykernel)",
   "language": "python",
   "name": "python3"
  },
  "language_info": {
   "codemirror_mode": {
    "name": "ipython",
    "version": 3
   },
   "file_extension": ".py",
   "mimetype": "text/x-python",
   "name": "python",
   "nbconvert_exporter": "python",
   "pygments_lexer": "ipython3",
   "version": "3.9.12"
  }
 },
 "nbformat": 4,
 "nbformat_minor": 5
}
